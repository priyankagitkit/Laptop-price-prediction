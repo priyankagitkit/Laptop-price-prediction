{
 "cells": [
  {
   "cell_type": "markdown",
   "id": "f713726b-1fa3-41a1-9945-be04c012d1d4",
   "metadata": {},
   "source": [
    "## Read Library"
   ]
  },
  {
   "cell_type": "code",
   "execution_count": 1,
   "id": "8a6e3a25-0239-4bd4-a9e0-9183b01e0486",
   "metadata": {},
   "outputs": [],
   "source": [
    "import pandas as pd\n",
    "import numpy as np\n",
    "import matplotlib.pyplot as plt\n",
    "import seaborn as sns"
   ]
  },
  {
   "cell_type": "markdown",
   "id": "a9cedae0-fee9-4c39-bf48-872fd4a465af",
   "metadata": {},
   "source": [
    "## Read data file"
   ]
  },
  {
   "cell_type": "code",
   "execution_count": 2,
   "id": "0d646ba8-938d-484e-87ea-886a5aa43a03",
   "metadata": {},
   "outputs": [],
   "source": [
    "df=pd.read_csv(\"cleaned_Laptop_Data.csv\")"
   ]
  },
  {
   "cell_type": "code",
   "execution_count": 3,
   "id": "29b1f71f-b2e9-4fe4-9d1e-d418f952bef0",
   "metadata": {},
   "outputs": [
    {
     "data": {
      "text/html": [
       "<div>\n",
       "<style scoped>\n",
       "    .dataframe tbody tr th:only-of-type {\n",
       "        vertical-align: middle;\n",
       "    }\n",
       "\n",
       "    .dataframe tbody tr th {\n",
       "        vertical-align: top;\n",
       "    }\n",
       "\n",
       "    .dataframe thead th {\n",
       "        text-align: right;\n",
       "    }\n",
       "</style>\n",
       "<table border=\"1\" class=\"dataframe\">\n",
       "  <thead>\n",
       "    <tr style=\"text-align: right;\">\n",
       "      <th></th>\n",
       "      <th>Unnamed: 0</th>\n",
       "      <th>Company</th>\n",
       "      <th>TypeName</th>\n",
       "      <th>Ram</th>\n",
       "      <th>Weight</th>\n",
       "      <th>Price</th>\n",
       "      <th>TouchScreen</th>\n",
       "      <th>Ips</th>\n",
       "      <th>Ppi</th>\n",
       "      <th>Cpu_brand</th>\n",
       "      <th>HDD</th>\n",
       "      <th>SSD</th>\n",
       "      <th>Gpu_brand</th>\n",
       "      <th>Os</th>\n",
       "      <th>ScreenSize</th>\n",
       "      <th>StorageCapacity</th>\n",
       "    </tr>\n",
       "  </thead>\n",
       "  <tbody>\n",
       "    <tr>\n",
       "      <th>0</th>\n",
       "      <td>0</td>\n",
       "      <td>Apple</td>\n",
       "      <td>Ultrabook</td>\n",
       "      <td>8</td>\n",
       "      <td>1.37</td>\n",
       "      <td>11.175755</td>\n",
       "      <td>0</td>\n",
       "      <td>1</td>\n",
       "      <td>226.983005</td>\n",
       "      <td>Intel Core i5</td>\n",
       "      <td>0</td>\n",
       "      <td>128</td>\n",
       "      <td>Intel</td>\n",
       "      <td>Mac</td>\n",
       "      <td>310.966716</td>\n",
       "      <td>128</td>\n",
       "    </tr>\n",
       "    <tr>\n",
       "      <th>1</th>\n",
       "      <td>1</td>\n",
       "      <td>Apple</td>\n",
       "      <td>Ultrabook</td>\n",
       "      <td>8</td>\n",
       "      <td>1.34</td>\n",
       "      <td>10.776777</td>\n",
       "      <td>0</td>\n",
       "      <td>0</td>\n",
       "      <td>127.677940</td>\n",
       "      <td>Intel Core i5</td>\n",
       "      <td>0</td>\n",
       "      <td>0</td>\n",
       "      <td>Intel</td>\n",
       "      <td>Mac</td>\n",
       "      <td>171.088440</td>\n",
       "      <td>0</td>\n",
       "    </tr>\n",
       "    <tr>\n",
       "      <th>2</th>\n",
       "      <td>2</td>\n",
       "      <td>HP</td>\n",
       "      <td>Notebook</td>\n",
       "      <td>8</td>\n",
       "      <td>1.86</td>\n",
       "      <td>10.329931</td>\n",
       "      <td>0</td>\n",
       "      <td>0</td>\n",
       "      <td>141.211998</td>\n",
       "      <td>Intel Core i5</td>\n",
       "      <td>0</td>\n",
       "      <td>256</td>\n",
       "      <td>Intel</td>\n",
       "      <td>Others</td>\n",
       "      <td>262.654316</td>\n",
       "      <td>256</td>\n",
       "    </tr>\n",
       "    <tr>\n",
       "      <th>3</th>\n",
       "      <td>3</td>\n",
       "      <td>Apple</td>\n",
       "      <td>Ultrabook</td>\n",
       "      <td>16</td>\n",
       "      <td>1.83</td>\n",
       "      <td>11.814476</td>\n",
       "      <td>0</td>\n",
       "      <td>1</td>\n",
       "      <td>220.534624</td>\n",
       "      <td>Intel Core i7</td>\n",
       "      <td>0</td>\n",
       "      <td>512</td>\n",
       "      <td>AMD</td>\n",
       "      <td>Mac</td>\n",
       "      <td>403.578362</td>\n",
       "      <td>512</td>\n",
       "    </tr>\n",
       "    <tr>\n",
       "      <th>4</th>\n",
       "      <td>4</td>\n",
       "      <td>Apple</td>\n",
       "      <td>Ultrabook</td>\n",
       "      <td>8</td>\n",
       "      <td>1.37</td>\n",
       "      <td>11.473101</td>\n",
       "      <td>0</td>\n",
       "      <td>1</td>\n",
       "      <td>226.983005</td>\n",
       "      <td>Intel Core i5</td>\n",
       "      <td>0</td>\n",
       "      <td>256</td>\n",
       "      <td>Intel</td>\n",
       "      <td>Mac</td>\n",
       "      <td>310.966716</td>\n",
       "      <td>256</td>\n",
       "    </tr>\n",
       "    <tr>\n",
       "      <th>...</th>\n",
       "      <td>...</td>\n",
       "      <td>...</td>\n",
       "      <td>...</td>\n",
       "      <td>...</td>\n",
       "      <td>...</td>\n",
       "      <td>...</td>\n",
       "      <td>...</td>\n",
       "      <td>...</td>\n",
       "      <td>...</td>\n",
       "      <td>...</td>\n",
       "      <td>...</td>\n",
       "      <td>...</td>\n",
       "      <td>...</td>\n",
       "      <td>...</td>\n",
       "      <td>...</td>\n",
       "      <td>...</td>\n",
       "    </tr>\n",
       "    <tr>\n",
       "      <th>1268</th>\n",
       "      <td>1268</td>\n",
       "      <td>Asus</td>\n",
       "      <td>Notebook</td>\n",
       "      <td>4</td>\n",
       "      <td>2.20</td>\n",
       "      <td>10.555257</td>\n",
       "      <td>0</td>\n",
       "      <td>0</td>\n",
       "      <td>100.454670</td>\n",
       "      <td>Intel Core i7</td>\n",
       "      <td>500</td>\n",
       "      <td>0</td>\n",
       "      <td>Nvidia</td>\n",
       "      <td>Windows</td>\n",
       "      <td>221.000274</td>\n",
       "      <td>500</td>\n",
       "    </tr>\n",
       "    <tr>\n",
       "      <th>1269</th>\n",
       "      <td>1269</td>\n",
       "      <td>Lenovo</td>\n",
       "      <td>2 in 1 Convertible</td>\n",
       "      <td>4</td>\n",
       "      <td>1.80</td>\n",
       "      <td>10.433899</td>\n",
       "      <td>1</td>\n",
       "      <td>1</td>\n",
       "      <td>157.350512</td>\n",
       "      <td>Intel Core i7</td>\n",
       "      <td>0</td>\n",
       "      <td>128</td>\n",
       "      <td>Intel</td>\n",
       "      <td>Windows</td>\n",
       "      <td>283.230922</td>\n",
       "      <td>128</td>\n",
       "    </tr>\n",
       "    <tr>\n",
       "      <th>1270</th>\n",
       "      <td>1270</td>\n",
       "      <td>Lenovo</td>\n",
       "      <td>2 in 1 Convertible</td>\n",
       "      <td>16</td>\n",
       "      <td>1.30</td>\n",
       "      <td>11.288115</td>\n",
       "      <td>1</td>\n",
       "      <td>1</td>\n",
       "      <td>276.053530</td>\n",
       "      <td>Intel Core i7</td>\n",
       "      <td>0</td>\n",
       "      <td>512</td>\n",
       "      <td>Intel</td>\n",
       "      <td>Windows</td>\n",
       "      <td>358.869589</td>\n",
       "      <td>512</td>\n",
       "    </tr>\n",
       "    <tr>\n",
       "      <th>1271</th>\n",
       "      <td>1271</td>\n",
       "      <td>Lenovo</td>\n",
       "      <td>Notebook</td>\n",
       "      <td>2</td>\n",
       "      <td>1.50</td>\n",
       "      <td>9.409283</td>\n",
       "      <td>0</td>\n",
       "      <td>0</td>\n",
       "      <td>111.935204</td>\n",
       "      <td>Other Intel Processor</td>\n",
       "      <td>0</td>\n",
       "      <td>0</td>\n",
       "      <td>Intel</td>\n",
       "      <td>Windows</td>\n",
       "      <td>167.902805</td>\n",
       "      <td>0</td>\n",
       "    </tr>\n",
       "    <tr>\n",
       "      <th>1272</th>\n",
       "      <td>1272</td>\n",
       "      <td>HP</td>\n",
       "      <td>Notebook</td>\n",
       "      <td>6</td>\n",
       "      <td>2.19</td>\n",
       "      <td>10.614129</td>\n",
       "      <td>0</td>\n",
       "      <td>0</td>\n",
       "      <td>100.454670</td>\n",
       "      <td>Intel Core i7</td>\n",
       "      <td>1000</td>\n",
       "      <td>0</td>\n",
       "      <td>AMD</td>\n",
       "      <td>Windows</td>\n",
       "      <td>219.995727</td>\n",
       "      <td>1000</td>\n",
       "    </tr>\n",
       "  </tbody>\n",
       "</table>\n",
       "<p>1273 rows × 16 columns</p>\n",
       "</div>"
      ],
      "text/plain": [
       "      Unnamed: 0 Company            TypeName  Ram  Weight      Price  \\\n",
       "0              0   Apple           Ultrabook    8    1.37  11.175755   \n",
       "1              1   Apple           Ultrabook    8    1.34  10.776777   \n",
       "2              2      HP            Notebook    8    1.86  10.329931   \n",
       "3              3   Apple           Ultrabook   16    1.83  11.814476   \n",
       "4              4   Apple           Ultrabook    8    1.37  11.473101   \n",
       "...          ...     ...                 ...  ...     ...        ...   \n",
       "1268        1268    Asus            Notebook    4    2.20  10.555257   \n",
       "1269        1269  Lenovo  2 in 1 Convertible    4    1.80  10.433899   \n",
       "1270        1270  Lenovo  2 in 1 Convertible   16    1.30  11.288115   \n",
       "1271        1271  Lenovo            Notebook    2    1.50   9.409283   \n",
       "1272        1272      HP            Notebook    6    2.19  10.614129   \n",
       "\n",
       "      TouchScreen  Ips         Ppi              Cpu_brand   HDD  SSD  \\\n",
       "0               0    1  226.983005          Intel Core i5     0  128   \n",
       "1               0    0  127.677940          Intel Core i5     0    0   \n",
       "2               0    0  141.211998          Intel Core i5     0  256   \n",
       "3               0    1  220.534624          Intel Core i7     0  512   \n",
       "4               0    1  226.983005          Intel Core i5     0  256   \n",
       "...           ...  ...         ...                    ...   ...  ...   \n",
       "1268            0    0  100.454670          Intel Core i7   500    0   \n",
       "1269            1    1  157.350512          Intel Core i7     0  128   \n",
       "1270            1    1  276.053530          Intel Core i7     0  512   \n",
       "1271            0    0  111.935204  Other Intel Processor     0    0   \n",
       "1272            0    0  100.454670          Intel Core i7  1000    0   \n",
       "\n",
       "     Gpu_brand       Os  ScreenSize  StorageCapacity  \n",
       "0        Intel      Mac  310.966716              128  \n",
       "1        Intel      Mac  171.088440                0  \n",
       "2        Intel   Others  262.654316              256  \n",
       "3          AMD      Mac  403.578362              512  \n",
       "4        Intel      Mac  310.966716              256  \n",
       "...        ...      ...         ...              ...  \n",
       "1268    Nvidia  Windows  221.000274              500  \n",
       "1269     Intel  Windows  283.230922              128  \n",
       "1270     Intel  Windows  358.869589              512  \n",
       "1271     Intel  Windows  167.902805                0  \n",
       "1272       AMD  Windows  219.995727             1000  \n",
       "\n",
       "[1273 rows x 16 columns]"
      ]
     },
     "execution_count": 3,
     "metadata": {},
     "output_type": "execute_result"
    }
   ],
   "source": [
    "df"
   ]
  },
  {
   "cell_type": "code",
   "execution_count": 4,
   "id": "ca1d261c-a44e-427c-9e81-941111e4689b",
   "metadata": {},
   "outputs": [
    {
     "data": {
      "text/plain": [
       "(1273, 16)"
      ]
     },
     "execution_count": 4,
     "metadata": {},
     "output_type": "execute_result"
    }
   ],
   "source": [
    "df.shape #Give the row and column"
   ]
  },
  {
   "cell_type": "code",
   "execution_count": 5,
   "id": "7c30ce61-fcd2-425d-b9c9-1c9e9c034d98",
   "metadata": {},
   "outputs": [
    {
     "name": "stdout",
     "output_type": "stream",
     "text": [
      "<class 'pandas.core.frame.DataFrame'>\n",
      "RangeIndex: 1273 entries, 0 to 1272\n",
      "Data columns (total 16 columns):\n",
      " #   Column           Non-Null Count  Dtype  \n",
      "---  ------           --------------  -----  \n",
      " 0   Unnamed: 0       1273 non-null   int64  \n",
      " 1   Company          1273 non-null   object \n",
      " 2   TypeName         1273 non-null   object \n",
      " 3   Ram              1273 non-null   int64  \n",
      " 4   Weight           1273 non-null   float64\n",
      " 5   Price            1273 non-null   float64\n",
      " 6   TouchScreen      1273 non-null   int64  \n",
      " 7   Ips              1273 non-null   int64  \n",
      " 8   Ppi              1273 non-null   float64\n",
      " 9   Cpu_brand        1273 non-null   object \n",
      " 10  HDD              1273 non-null   int64  \n",
      " 11  SSD              1273 non-null   int64  \n",
      " 12  Gpu_brand        1273 non-null   object \n",
      " 13  Os               1273 non-null   object \n",
      " 14  ScreenSize       1273 non-null   float64\n",
      " 15  StorageCapacity  1273 non-null   int64  \n",
      "dtypes: float64(4), int64(7), object(5)\n",
      "memory usage: 159.3+ KB\n"
     ]
    }
   ],
   "source": [
    "df.info() #Give detail information about the dataset"
   ]
  },
  {
   "cell_type": "code",
   "execution_count": 6,
   "id": "2affb90b-11a4-4071-97bc-6f23607b2c2a",
   "metadata": {},
   "outputs": [],
   "source": [
    "df.drop(['Unnamed: 0'],axis=1,inplace=True)#Droping the unwanted column"
   ]
  },
  {
   "cell_type": "code",
   "execution_count": 7,
   "id": "4fec3884-cef4-4eac-95db-645a0925e376",
   "metadata": {},
   "outputs": [],
   "source": [
    "df.rename(columns={'TouchScreen':'TS','ScreenSize':'Scrnsize','StorageCapacity':'Strcap'},inplace=True)# Renaming the column"
   ]
  },
  {
   "cell_type": "code",
   "execution_count": 8,
   "id": "7ee5f2e3-eb55-4ef9-bf02-755a86c85ccf",
   "metadata": {},
   "outputs": [
    {
     "data": {
      "text/html": [
       "<div>\n",
       "<style scoped>\n",
       "    .dataframe tbody tr th:only-of-type {\n",
       "        vertical-align: middle;\n",
       "    }\n",
       "\n",
       "    .dataframe tbody tr th {\n",
       "        vertical-align: top;\n",
       "    }\n",
       "\n",
       "    .dataframe thead th {\n",
       "        text-align: right;\n",
       "    }\n",
       "</style>\n",
       "<table border=\"1\" class=\"dataframe\">\n",
       "  <thead>\n",
       "    <tr style=\"text-align: right;\">\n",
       "      <th></th>\n",
       "      <th>Ram</th>\n",
       "      <th>Weight</th>\n",
       "      <th>Price</th>\n",
       "      <th>TS</th>\n",
       "      <th>Ips</th>\n",
       "      <th>Ppi</th>\n",
       "      <th>HDD</th>\n",
       "      <th>SSD</th>\n",
       "      <th>Scrnsize</th>\n",
       "      <th>Strcap</th>\n",
       "    </tr>\n",
       "  </thead>\n",
       "  <tbody>\n",
       "    <tr>\n",
       "      <th>count</th>\n",
       "      <td>1273.000000</td>\n",
       "      <td>1273.000000</td>\n",
       "      <td>1273.000000</td>\n",
       "      <td>1273.000000</td>\n",
       "      <td>1273.000000</td>\n",
       "      <td>1273.000000</td>\n",
       "      <td>1273.000000</td>\n",
       "      <td>1273.000000</td>\n",
       "      <td>1273.000000</td>\n",
       "      <td>1273.000000</td>\n",
       "    </tr>\n",
       "    <tr>\n",
       "      <th>mean</th>\n",
       "      <td>8.447761</td>\n",
       "      <td>2.041100</td>\n",
       "      <td>10.828218</td>\n",
       "      <td>0.146897</td>\n",
       "      <td>0.279654</td>\n",
       "      <td>146.950812</td>\n",
       "      <td>413.715632</td>\n",
       "      <td>186.252946</td>\n",
       "      <td>290.769790</td>\n",
       "      <td>599.968578</td>\n",
       "    </tr>\n",
       "    <tr>\n",
       "      <th>std</th>\n",
       "      <td>5.098771</td>\n",
       "      <td>0.669241</td>\n",
       "      <td>0.619565</td>\n",
       "      <td>0.354142</td>\n",
       "      <td>0.449006</td>\n",
       "      <td>42.926775</td>\n",
       "      <td>518.054486</td>\n",
       "      <td>186.531571</td>\n",
       "      <td>110.457643</td>\n",
       "      <td>475.128237</td>\n",
       "    </tr>\n",
       "    <tr>\n",
       "      <th>min</th>\n",
       "      <td>2.000000</td>\n",
       "      <td>0.690000</td>\n",
       "      <td>9.134616</td>\n",
       "      <td>0.000000</td>\n",
       "      <td>0.000000</td>\n",
       "      <td>90.583402</td>\n",
       "      <td>0.000000</td>\n",
       "      <td>0.000000</td>\n",
       "      <td>132.392327</td>\n",
       "      <td>0.000000</td>\n",
       "    </tr>\n",
       "    <tr>\n",
       "      <th>25%</th>\n",
       "      <td>4.000000</td>\n",
       "      <td>1.500000</td>\n",
       "      <td>10.387379</td>\n",
       "      <td>0.000000</td>\n",
       "      <td>0.000000</td>\n",
       "      <td>127.335675</td>\n",
       "      <td>0.000000</td>\n",
       "      <td>0.000000</td>\n",
       "      <td>220.290717</td>\n",
       "      <td>256.000000</td>\n",
       "    </tr>\n",
       "    <tr>\n",
       "      <th>50%</th>\n",
       "      <td>8.000000</td>\n",
       "      <td>2.040000</td>\n",
       "      <td>10.872255</td>\n",
       "      <td>0.000000</td>\n",
       "      <td>0.000000</td>\n",
       "      <td>141.211998</td>\n",
       "      <td>0.000000</td>\n",
       "      <td>256.000000</td>\n",
       "      <td>272.539156</td>\n",
       "      <td>500.000000</td>\n",
       "    </tr>\n",
       "    <tr>\n",
       "      <th>75%</th>\n",
       "      <td>8.000000</td>\n",
       "      <td>2.310000</td>\n",
       "      <td>11.287447</td>\n",
       "      <td>0.000000</td>\n",
       "      <td>1.000000</td>\n",
       "      <td>157.350512</td>\n",
       "      <td>1000.000000</td>\n",
       "      <td>256.000000</td>\n",
       "      <td>324.787596</td>\n",
       "      <td>1000.000000</td>\n",
       "    </tr>\n",
       "    <tr>\n",
       "      <th>max</th>\n",
       "      <td>64.000000</td>\n",
       "      <td>4.700000</td>\n",
       "      <td>12.691441</td>\n",
       "      <td>1.000000</td>\n",
       "      <td>1.000000</td>\n",
       "      <td>352.465147</td>\n",
       "      <td>2000.000000</td>\n",
       "      <td>1024.000000</td>\n",
       "      <td>1248.314063</td>\n",
       "      <td>2512.000000</td>\n",
       "    </tr>\n",
       "  </tbody>\n",
       "</table>\n",
       "</div>"
      ],
      "text/plain": [
       "               Ram       Weight        Price           TS          Ips  \\\n",
       "count  1273.000000  1273.000000  1273.000000  1273.000000  1273.000000   \n",
       "mean      8.447761     2.041100    10.828218     0.146897     0.279654   \n",
       "std       5.098771     0.669241     0.619565     0.354142     0.449006   \n",
       "min       2.000000     0.690000     9.134616     0.000000     0.000000   \n",
       "25%       4.000000     1.500000    10.387379     0.000000     0.000000   \n",
       "50%       8.000000     2.040000    10.872255     0.000000     0.000000   \n",
       "75%       8.000000     2.310000    11.287447     0.000000     1.000000   \n",
       "max      64.000000     4.700000    12.691441     1.000000     1.000000   \n",
       "\n",
       "               Ppi          HDD          SSD     Scrnsize       Strcap  \n",
       "count  1273.000000  1273.000000  1273.000000  1273.000000  1273.000000  \n",
       "mean    146.950812   413.715632   186.252946   290.769790   599.968578  \n",
       "std      42.926775   518.054486   186.531571   110.457643   475.128237  \n",
       "min      90.583402     0.000000     0.000000   132.392327     0.000000  \n",
       "25%     127.335675     0.000000     0.000000   220.290717   256.000000  \n",
       "50%     141.211998     0.000000   256.000000   272.539156   500.000000  \n",
       "75%     157.350512  1000.000000   256.000000   324.787596  1000.000000  \n",
       "max     352.465147  2000.000000  1024.000000  1248.314063  2512.000000  "
      ]
     },
     "execution_count": 8,
     "metadata": {},
     "output_type": "execute_result"
    }
   ],
   "source": [
    "df.describe()#Give information about the mean,sdt deviation,min,max of the data"
   ]
  },
  {
   "cell_type": "markdown",
   "id": "82411d5d-d4d9-47e3-8c9b-b823c7a72223",
   "metadata": {},
   "source": [
    "## Check null value"
   ]
  },
  {
   "cell_type": "code",
   "execution_count": 9,
   "id": "b14f1f97-0267-49cc-9f7b-0ea6c4463275",
   "metadata": {},
   "outputs": [
    {
     "data": {
      "text/plain": [
       "Company      0\n",
       "TypeName     0\n",
       "Ram          0\n",
       "Weight       0\n",
       "Price        0\n",
       "TS           0\n",
       "Ips          0\n",
       "Ppi          0\n",
       "Cpu_brand    0\n",
       "HDD          0\n",
       "SSD          0\n",
       "Gpu_brand    0\n",
       "Os           0\n",
       "Scrnsize     0\n",
       "Strcap       0\n",
       "dtype: int64"
      ]
     },
     "execution_count": 9,
     "metadata": {},
     "output_type": "execute_result"
    }
   ],
   "source": [
    "df.isnull().sum()"
   ]
  },
  {
   "cell_type": "code",
   "execution_count": 10,
   "id": "1c3322aa-facd-4be9-94ad-86cda6b74989",
   "metadata": {},
   "outputs": [
    {
     "data": {
      "text/plain": [
       "[]"
      ]
     },
     "execution_count": 10,
     "metadata": {},
     "output_type": "execute_result"
    }
   ],
   "source": [
    "[features for features in df.columns if df[features].isnull().sum()>0]"
   ]
  },
  {
   "cell_type": "markdown",
   "id": "5eec82a6-52bf-4af0-b847-b2c046276519",
   "metadata": {},
   "source": [
    "## Check duplicate"
   ]
  },
  {
   "cell_type": "code",
   "execution_count": 11,
   "id": "14b23d88-7e19-40fc-84c4-e281e52ac500",
   "metadata": {},
   "outputs": [
    {
     "data": {
      "text/html": [
       "<div>\n",
       "<style scoped>\n",
       "    .dataframe tbody tr th:only-of-type {\n",
       "        vertical-align: middle;\n",
       "    }\n",
       "\n",
       "    .dataframe tbody tr th {\n",
       "        vertical-align: top;\n",
       "    }\n",
       "\n",
       "    .dataframe thead th {\n",
       "        text-align: right;\n",
       "    }\n",
       "</style>\n",
       "<table border=\"1\" class=\"dataframe\">\n",
       "  <thead>\n",
       "    <tr style=\"text-align: right;\">\n",
       "      <th></th>\n",
       "      <th>Company</th>\n",
       "      <th>TypeName</th>\n",
       "      <th>Ram</th>\n",
       "      <th>Weight</th>\n",
       "      <th>Price</th>\n",
       "      <th>TS</th>\n",
       "      <th>Ips</th>\n",
       "      <th>Ppi</th>\n",
       "      <th>Cpu_brand</th>\n",
       "      <th>HDD</th>\n",
       "      <th>SSD</th>\n",
       "      <th>Gpu_brand</th>\n",
       "      <th>Os</th>\n",
       "      <th>Scrnsize</th>\n",
       "      <th>Strcap</th>\n",
       "    </tr>\n",
       "  </thead>\n",
       "  <tbody>\n",
       "    <tr>\n",
       "      <th>981</th>\n",
       "      <td>Toshiba</td>\n",
       "      <td>Notebook</td>\n",
       "      <td>4</td>\n",
       "      <td>1.2</td>\n",
       "      <td>11.061462</td>\n",
       "      <td>0</td>\n",
       "      <td>0</td>\n",
       "      <td>165.632118</td>\n",
       "      <td>Intel Core i5</td>\n",
       "      <td>0</td>\n",
       "      <td>128</td>\n",
       "      <td>Intel</td>\n",
       "      <td>Windows</td>\n",
       "      <td>198.758542</td>\n",
       "      <td>128</td>\n",
       "    </tr>\n",
       "    <tr>\n",
       "      <th>1004</th>\n",
       "      <td>Toshiba</td>\n",
       "      <td>Notebook</td>\n",
       "      <td>4</td>\n",
       "      <td>1.2</td>\n",
       "      <td>11.061462</td>\n",
       "      <td>0</td>\n",
       "      <td>0</td>\n",
       "      <td>165.632118</td>\n",
       "      <td>Intel Core i5</td>\n",
       "      <td>0</td>\n",
       "      <td>128</td>\n",
       "      <td>Intel</td>\n",
       "      <td>Windows</td>\n",
       "      <td>198.758542</td>\n",
       "      <td>128</td>\n",
       "    </tr>\n",
       "  </tbody>\n",
       "</table>\n",
       "</div>"
      ],
      "text/plain": [
       "      Company  TypeName  Ram  Weight      Price  TS  Ips         Ppi  \\\n",
       "981   Toshiba  Notebook    4     1.2  11.061462   0    0  165.632118   \n",
       "1004  Toshiba  Notebook    4     1.2  11.061462   0    0  165.632118   \n",
       "\n",
       "          Cpu_brand  HDD  SSD Gpu_brand       Os    Scrnsize  Strcap  \n",
       "981   Intel Core i5    0  128     Intel  Windows  198.758542     128  \n",
       "1004  Intel Core i5    0  128     Intel  Windows  198.758542     128  "
      ]
     },
     "execution_count": 11,
     "metadata": {},
     "output_type": "execute_result"
    }
   ],
   "source": [
    "df.loc[df.duplicated(keep=False)]"
   ]
  },
  {
   "cell_type": "code",
   "execution_count": 12,
   "id": "e528ea7c-6973-4783-9f42-f4165b850aa0",
   "metadata": {},
   "outputs": [],
   "source": [
    "df.drop_duplicates(keep='first',inplace=True)#Removing the duplicate value"
   ]
  },
  {
   "cell_type": "code",
   "execution_count": 13,
   "id": "b73d10d6-a68a-426f-8cba-832869e474df",
   "metadata": {},
   "outputs": [
    {
     "data": {
      "text/html": [
       "<div>\n",
       "<style scoped>\n",
       "    .dataframe tbody tr th:only-of-type {\n",
       "        vertical-align: middle;\n",
       "    }\n",
       "\n",
       "    .dataframe tbody tr th {\n",
       "        vertical-align: top;\n",
       "    }\n",
       "\n",
       "    .dataframe thead th {\n",
       "        text-align: right;\n",
       "    }\n",
       "</style>\n",
       "<table border=\"1\" class=\"dataframe\">\n",
       "  <thead>\n",
       "    <tr style=\"text-align: right;\">\n",
       "      <th></th>\n",
       "      <th>Company</th>\n",
       "      <th>TypeName</th>\n",
       "      <th>Ram</th>\n",
       "      <th>Weight</th>\n",
       "      <th>Price</th>\n",
       "      <th>TS</th>\n",
       "      <th>Ips</th>\n",
       "      <th>Ppi</th>\n",
       "      <th>Cpu_brand</th>\n",
       "      <th>HDD</th>\n",
       "      <th>SSD</th>\n",
       "      <th>Gpu_brand</th>\n",
       "      <th>Os</th>\n",
       "      <th>Scrnsize</th>\n",
       "      <th>Strcap</th>\n",
       "    </tr>\n",
       "  </thead>\n",
       "  <tbody>\n",
       "    <tr>\n",
       "      <th>980</th>\n",
       "      <td>Dell</td>\n",
       "      <td>2 in 1 Convertible</td>\n",
       "      <td>12</td>\n",
       "      <td>2.19</td>\n",
       "      <td>11.144911</td>\n",
       "      <td>1</td>\n",
       "      <td>1</td>\n",
       "      <td>141.211998</td>\n",
       "      <td>Intel Core i7</td>\n",
       "      <td>0</td>\n",
       "      <td>512</td>\n",
       "      <td>Intel</td>\n",
       "      <td>Windows</td>\n",
       "      <td>309.254276</td>\n",
       "      <td>512</td>\n",
       "    </tr>\n",
       "    <tr>\n",
       "      <th>981</th>\n",
       "      <td>Toshiba</td>\n",
       "      <td>Notebook</td>\n",
       "      <td>4</td>\n",
       "      <td>1.20</td>\n",
       "      <td>11.061462</td>\n",
       "      <td>0</td>\n",
       "      <td>0</td>\n",
       "      <td>165.632118</td>\n",
       "      <td>Intel Core i5</td>\n",
       "      <td>0</td>\n",
       "      <td>128</td>\n",
       "      <td>Intel</td>\n",
       "      <td>Windows</td>\n",
       "      <td>198.758542</td>\n",
       "      <td>128</td>\n",
       "    </tr>\n",
       "    <tr>\n",
       "      <th>982</th>\n",
       "      <td>Lenovo</td>\n",
       "      <td>Notebook</td>\n",
       "      <td>6</td>\n",
       "      <td>2.20</td>\n",
       "      <td>10.283659</td>\n",
       "      <td>0</td>\n",
       "      <td>0</td>\n",
       "      <td>141.211998</td>\n",
       "      <td>AMD Processor</td>\n",
       "      <td>0</td>\n",
       "      <td>256</td>\n",
       "      <td>AMD</td>\n",
       "      <td>Windows</td>\n",
       "      <td>310.666396</td>\n",
       "      <td>256</td>\n",
       "    </tr>\n",
       "    <tr>\n",
       "      <th>983</th>\n",
       "      <td>Fujitsu</td>\n",
       "      <td>Notebook</td>\n",
       "      <td>4</td>\n",
       "      <td>2.30</td>\n",
       "      <td>10.450994</td>\n",
       "      <td>0</td>\n",
       "      <td>0</td>\n",
       "      <td>100.454670</td>\n",
       "      <td>Intel Core i5</td>\n",
       "      <td>0</td>\n",
       "      <td>256</td>\n",
       "      <td>Intel</td>\n",
       "      <td>Windows</td>\n",
       "      <td>231.045741</td>\n",
       "      <td>256</td>\n",
       "    </tr>\n",
       "    <tr>\n",
       "      <th>984</th>\n",
       "      <td>Toshiba</td>\n",
       "      <td>Notebook</td>\n",
       "      <td>4</td>\n",
       "      <td>1.75</td>\n",
       "      <td>10.794485</td>\n",
       "      <td>0</td>\n",
       "      <td>0</td>\n",
       "      <td>111.935204</td>\n",
       "      <td>Intel Core i5</td>\n",
       "      <td>500</td>\n",
       "      <td>0</td>\n",
       "      <td>Intel</td>\n",
       "      <td>Windows</td>\n",
       "      <td>195.886606</td>\n",
       "      <td>500</td>\n",
       "    </tr>\n",
       "    <tr>\n",
       "      <th>985</th>\n",
       "      <td>Dell</td>\n",
       "      <td>Notebook</td>\n",
       "      <td>4</td>\n",
       "      <td>2.25</td>\n",
       "      <td>10.370823</td>\n",
       "      <td>0</td>\n",
       "      <td>0</td>\n",
       "      <td>100.454670</td>\n",
       "      <td>Intel Core i5</td>\n",
       "      <td>500</td>\n",
       "      <td>0</td>\n",
       "      <td>AMD</td>\n",
       "      <td>Windows</td>\n",
       "      <td>226.023007</td>\n",
       "      <td>500</td>\n",
       "    </tr>\n",
       "    <tr>\n",
       "      <th>986</th>\n",
       "      <td>HP</td>\n",
       "      <td>Notebook</td>\n",
       "      <td>8</td>\n",
       "      <td>2.04</td>\n",
       "      <td>10.667645</td>\n",
       "      <td>0</td>\n",
       "      <td>0</td>\n",
       "      <td>141.211998</td>\n",
       "      <td>Intel Core i5</td>\n",
       "      <td>1000</td>\n",
       "      <td>0</td>\n",
       "      <td>Intel</td>\n",
       "      <td>Windows</td>\n",
       "      <td>288.072476</td>\n",
       "      <td>1000</td>\n",
       "    </tr>\n",
       "    <tr>\n",
       "      <th>987</th>\n",
       "      <td>Lenovo</td>\n",
       "      <td>Gaming</td>\n",
       "      <td>8</td>\n",
       "      <td>2.50</td>\n",
       "      <td>11.056429</td>\n",
       "      <td>0</td>\n",
       "      <td>1</td>\n",
       "      <td>141.211998</td>\n",
       "      <td>Intel Core i7</td>\n",
       "      <td>1000</td>\n",
       "      <td>128</td>\n",
       "      <td>Nvidia</td>\n",
       "      <td>Windows</td>\n",
       "      <td>353.029995</td>\n",
       "      <td>1128</td>\n",
       "    </tr>\n",
       "    <tr>\n",
       "      <th>988</th>\n",
       "      <td>Dell</td>\n",
       "      <td>Notebook</td>\n",
       "      <td>8</td>\n",
       "      <td>2.36</td>\n",
       "      <td>10.594300</td>\n",
       "      <td>0</td>\n",
       "      <td>0</td>\n",
       "      <td>100.454670</td>\n",
       "      <td>Intel Core i7</td>\n",
       "      <td>1000</td>\n",
       "      <td>0</td>\n",
       "      <td>AMD</td>\n",
       "      <td>Windows</td>\n",
       "      <td>237.073021</td>\n",
       "      <td>1000</td>\n",
       "    </tr>\n",
       "    <tr>\n",
       "      <th>989</th>\n",
       "      <td>Dell</td>\n",
       "      <td>Notebook</td>\n",
       "      <td>8</td>\n",
       "      <td>1.60</td>\n",
       "      <td>10.995752</td>\n",
       "      <td>0</td>\n",
       "      <td>0</td>\n",
       "      <td>157.350512</td>\n",
       "      <td>Intel Core i5</td>\n",
       "      <td>0</td>\n",
       "      <td>128</td>\n",
       "      <td>Intel</td>\n",
       "      <td>Windows</td>\n",
       "      <td>251.760819</td>\n",
       "      <td>128</td>\n",
       "    </tr>\n",
       "    <tr>\n",
       "      <th>990</th>\n",
       "      <td>HP</td>\n",
       "      <td>Netbook</td>\n",
       "      <td>8</td>\n",
       "      <td>0.97</td>\n",
       "      <td>11.529372</td>\n",
       "      <td>0</td>\n",
       "      <td>0</td>\n",
       "      <td>176.232574</td>\n",
       "      <td>Other Intel Processor</td>\n",
       "      <td>0</td>\n",
       "      <td>512</td>\n",
       "      <td>Intel</td>\n",
       "      <td>Windows</td>\n",
       "      <td>170.945596</td>\n",
       "      <td>512</td>\n",
       "    </tr>\n",
       "    <tr>\n",
       "      <th>991</th>\n",
       "      <td>HP</td>\n",
       "      <td>Notebook</td>\n",
       "      <td>4</td>\n",
       "      <td>2.10</td>\n",
       "      <td>10.188167</td>\n",
       "      <td>0</td>\n",
       "      <td>0</td>\n",
       "      <td>141.211998</td>\n",
       "      <td>Intel Core i3</td>\n",
       "      <td>1000</td>\n",
       "      <td>128</td>\n",
       "      <td>AMD</td>\n",
       "      <td>Windows</td>\n",
       "      <td>296.545196</td>\n",
       "      <td>1128</td>\n",
       "    </tr>\n",
       "    <tr>\n",
       "      <th>992</th>\n",
       "      <td>Lenovo</td>\n",
       "      <td>Notebook</td>\n",
       "      <td>4</td>\n",
       "      <td>1.90</td>\n",
       "      <td>9.576277</td>\n",
       "      <td>0</td>\n",
       "      <td>0</td>\n",
       "      <td>100.454670</td>\n",
       "      <td>Other Intel Processor</td>\n",
       "      <td>0</td>\n",
       "      <td>128</td>\n",
       "      <td>Intel</td>\n",
       "      <td>Others</td>\n",
       "      <td>190.863873</td>\n",
       "      <td>128</td>\n",
       "    </tr>\n",
       "    <tr>\n",
       "      <th>993</th>\n",
       "      <td>Lenovo</td>\n",
       "      <td>Notebook</td>\n",
       "      <td>8</td>\n",
       "      <td>2.30</td>\n",
       "      <td>11.182680</td>\n",
       "      <td>0</td>\n",
       "      <td>0</td>\n",
       "      <td>141.211998</td>\n",
       "      <td>Intel Core i5</td>\n",
       "      <td>0</td>\n",
       "      <td>256</td>\n",
       "      <td>Intel</td>\n",
       "      <td>Windows</td>\n",
       "      <td>324.787596</td>\n",
       "      <td>256</td>\n",
       "    </tr>\n",
       "    <tr>\n",
       "      <th>994</th>\n",
       "      <td>Dell</td>\n",
       "      <td>2 in 1 Convertible</td>\n",
       "      <td>8</td>\n",
       "      <td>1.68</td>\n",
       "      <td>10.765658</td>\n",
       "      <td>1</td>\n",
       "      <td>0</td>\n",
       "      <td>165.632118</td>\n",
       "      <td>Intel Core i5</td>\n",
       "      <td>0</td>\n",
       "      <td>256</td>\n",
       "      <td>Intel</td>\n",
       "      <td>Windows</td>\n",
       "      <td>278.261958</td>\n",
       "      <td>256</td>\n",
       "    </tr>\n",
       "    <tr>\n",
       "      <th>995</th>\n",
       "      <td>Asus</td>\n",
       "      <td>Notebook</td>\n",
       "      <td>8</td>\n",
       "      <td>1.40</td>\n",
       "      <td>11.023078</td>\n",
       "      <td>0</td>\n",
       "      <td>0</td>\n",
       "      <td>276.053530</td>\n",
       "      <td>Intel Core i5</td>\n",
       "      <td>0</td>\n",
       "      <td>256</td>\n",
       "      <td>Intel</td>\n",
       "      <td>Windows</td>\n",
       "      <td>386.474942</td>\n",
       "      <td>256</td>\n",
       "    </tr>\n",
       "    <tr>\n",
       "      <th>996</th>\n",
       "      <td>HP</td>\n",
       "      <td>Ultrabook</td>\n",
       "      <td>8</td>\n",
       "      <td>1.11</td>\n",
       "      <td>11.182680</td>\n",
       "      <td>1</td>\n",
       "      <td>1</td>\n",
       "      <td>165.632118</td>\n",
       "      <td>Intel Core i7</td>\n",
       "      <td>0</td>\n",
       "      <td>256</td>\n",
       "      <td>Intel</td>\n",
       "      <td>Windows</td>\n",
       "      <td>183.851651</td>\n",
       "      <td>256</td>\n",
       "    </tr>\n",
       "    <tr>\n",
       "      <th>997</th>\n",
       "      <td>Acer</td>\n",
       "      <td>Notebook</td>\n",
       "      <td>4</td>\n",
       "      <td>2.40</td>\n",
       "      <td>9.915732</td>\n",
       "      <td>0</td>\n",
       "      <td>0</td>\n",
       "      <td>100.454670</td>\n",
       "      <td>Other Intel Processor</td>\n",
       "      <td>500</td>\n",
       "      <td>0</td>\n",
       "      <td>Intel</td>\n",
       "      <td>Windows</td>\n",
       "      <td>241.091208</td>\n",
       "      <td>500</td>\n",
       "    </tr>\n",
       "    <tr>\n",
       "      <th>998</th>\n",
       "      <td>Asus</td>\n",
       "      <td>Gaming</td>\n",
       "      <td>16</td>\n",
       "      <td>2.50</td>\n",
       "      <td>11.470547</td>\n",
       "      <td>0</td>\n",
       "      <td>0</td>\n",
       "      <td>141.211998</td>\n",
       "      <td>Intel Core i7</td>\n",
       "      <td>1000</td>\n",
       "      <td>256</td>\n",
       "      <td>Nvidia</td>\n",
       "      <td>Windows</td>\n",
       "      <td>353.029995</td>\n",
       "      <td>1256</td>\n",
       "    </tr>\n",
       "    <tr>\n",
       "      <th>999</th>\n",
       "      <td>HP</td>\n",
       "      <td>Ultrabook</td>\n",
       "      <td>8</td>\n",
       "      <td>1.48</td>\n",
       "      <td>11.620002</td>\n",
       "      <td>0</td>\n",
       "      <td>0</td>\n",
       "      <td>157.350512</td>\n",
       "      <td>Intel Core i7</td>\n",
       "      <td>0</td>\n",
       "      <td>512</td>\n",
       "      <td>Intel</td>\n",
       "      <td>Windows</td>\n",
       "      <td>232.878758</td>\n",
       "      <td>512</td>\n",
       "    </tr>\n",
       "    <tr>\n",
       "      <th>1000</th>\n",
       "      <td>Acer</td>\n",
       "      <td>Gaming</td>\n",
       "      <td>8</td>\n",
       "      <td>2.70</td>\n",
       "      <td>11.114428</td>\n",
       "      <td>0</td>\n",
       "      <td>1</td>\n",
       "      <td>141.211998</td>\n",
       "      <td>Intel Core i7</td>\n",
       "      <td>1000</td>\n",
       "      <td>128</td>\n",
       "      <td>Nvidia</td>\n",
       "      <td>Windows</td>\n",
       "      <td>381.272395</td>\n",
       "      <td>1128</td>\n",
       "    </tr>\n",
       "    <tr>\n",
       "      <th>1001</th>\n",
       "      <td>HP</td>\n",
       "      <td>Notebook</td>\n",
       "      <td>8</td>\n",
       "      <td>1.34</td>\n",
       "      <td>11.056429</td>\n",
       "      <td>0</td>\n",
       "      <td>1</td>\n",
       "      <td>165.632118</td>\n",
       "      <td>Intel Core i5</td>\n",
       "      <td>0</td>\n",
       "      <td>256</td>\n",
       "      <td>Intel</td>\n",
       "      <td>Windows</td>\n",
       "      <td>221.947038</td>\n",
       "      <td>256</td>\n",
       "    </tr>\n",
       "    <tr>\n",
       "      <th>1002</th>\n",
       "      <td>Dell</td>\n",
       "      <td>Notebook</td>\n",
       "      <td>4</td>\n",
       "      <td>2.18</td>\n",
       "      <td>10.280010</td>\n",
       "      <td>0</td>\n",
       "      <td>0</td>\n",
       "      <td>100.454670</td>\n",
       "      <td>Intel Core i3</td>\n",
       "      <td>0</td>\n",
       "      <td>128</td>\n",
       "      <td>Intel</td>\n",
       "      <td>Windows</td>\n",
       "      <td>218.991180</td>\n",
       "      <td>128</td>\n",
       "    </tr>\n",
       "    <tr>\n",
       "      <th>1003</th>\n",
       "      <td>HP</td>\n",
       "      <td>Notebook</td>\n",
       "      <td>4</td>\n",
       "      <td>1.64</td>\n",
       "      <td>10.633572</td>\n",
       "      <td>0</td>\n",
       "      <td>0</td>\n",
       "      <td>111.935204</td>\n",
       "      <td>Intel Core i5</td>\n",
       "      <td>500</td>\n",
       "      <td>0</td>\n",
       "      <td>Intel</td>\n",
       "      <td>Windows</td>\n",
       "      <td>183.573734</td>\n",
       "      <td>500</td>\n",
       "    </tr>\n",
       "    <tr>\n",
       "      <th>1005</th>\n",
       "      <td>HP</td>\n",
       "      <td>Notebook</td>\n",
       "      <td>4</td>\n",
       "      <td>1.48</td>\n",
       "      <td>10.978617</td>\n",
       "      <td>0</td>\n",
       "      <td>0</td>\n",
       "      <td>111.935204</td>\n",
       "      <td>Intel Core i5</td>\n",
       "      <td>0</td>\n",
       "      <td>256</td>\n",
       "      <td>Intel</td>\n",
       "      <td>Windows</td>\n",
       "      <td>165.664101</td>\n",
       "      <td>256</td>\n",
       "    </tr>\n",
       "  </tbody>\n",
       "</table>\n",
       "</div>"
      ],
      "text/plain": [
       "      Company            TypeName  Ram  Weight      Price  TS  Ips  \\\n",
       "980      Dell  2 in 1 Convertible   12    2.19  11.144911   1    1   \n",
       "981   Toshiba            Notebook    4    1.20  11.061462   0    0   \n",
       "982    Lenovo            Notebook    6    2.20  10.283659   0    0   \n",
       "983   Fujitsu            Notebook    4    2.30  10.450994   0    0   \n",
       "984   Toshiba            Notebook    4    1.75  10.794485   0    0   \n",
       "985      Dell            Notebook    4    2.25  10.370823   0    0   \n",
       "986        HP            Notebook    8    2.04  10.667645   0    0   \n",
       "987    Lenovo              Gaming    8    2.50  11.056429   0    1   \n",
       "988      Dell            Notebook    8    2.36  10.594300   0    0   \n",
       "989      Dell            Notebook    8    1.60  10.995752   0    0   \n",
       "990        HP             Netbook    8    0.97  11.529372   0    0   \n",
       "991        HP            Notebook    4    2.10  10.188167   0    0   \n",
       "992    Lenovo            Notebook    4    1.90   9.576277   0    0   \n",
       "993    Lenovo            Notebook    8    2.30  11.182680   0    0   \n",
       "994      Dell  2 in 1 Convertible    8    1.68  10.765658   1    0   \n",
       "995      Asus            Notebook    8    1.40  11.023078   0    0   \n",
       "996        HP           Ultrabook    8    1.11  11.182680   1    1   \n",
       "997      Acer            Notebook    4    2.40   9.915732   0    0   \n",
       "998      Asus              Gaming   16    2.50  11.470547   0    0   \n",
       "999        HP           Ultrabook    8    1.48  11.620002   0    0   \n",
       "1000     Acer              Gaming    8    2.70  11.114428   0    1   \n",
       "1001       HP            Notebook    8    1.34  11.056429   0    1   \n",
       "1002     Dell            Notebook    4    2.18  10.280010   0    0   \n",
       "1003       HP            Notebook    4    1.64  10.633572   0    0   \n",
       "1005       HP            Notebook    4    1.48  10.978617   0    0   \n",
       "\n",
       "             Ppi              Cpu_brand   HDD  SSD Gpu_brand       Os  \\\n",
       "980   141.211998          Intel Core i7     0  512     Intel  Windows   \n",
       "981   165.632118          Intel Core i5     0  128     Intel  Windows   \n",
       "982   141.211998          AMD Processor     0  256       AMD  Windows   \n",
       "983   100.454670          Intel Core i5     0  256     Intel  Windows   \n",
       "984   111.935204          Intel Core i5   500    0     Intel  Windows   \n",
       "985   100.454670          Intel Core i5   500    0       AMD  Windows   \n",
       "986   141.211998          Intel Core i5  1000    0     Intel  Windows   \n",
       "987   141.211998          Intel Core i7  1000  128    Nvidia  Windows   \n",
       "988   100.454670          Intel Core i7  1000    0       AMD  Windows   \n",
       "989   157.350512          Intel Core i5     0  128     Intel  Windows   \n",
       "990   176.232574  Other Intel Processor     0  512     Intel  Windows   \n",
       "991   141.211998          Intel Core i3  1000  128       AMD  Windows   \n",
       "992   100.454670  Other Intel Processor     0  128     Intel   Others   \n",
       "993   141.211998          Intel Core i5     0  256     Intel  Windows   \n",
       "994   165.632118          Intel Core i5     0  256     Intel  Windows   \n",
       "995   276.053530          Intel Core i5     0  256     Intel  Windows   \n",
       "996   165.632118          Intel Core i7     0  256     Intel  Windows   \n",
       "997   100.454670  Other Intel Processor   500    0     Intel  Windows   \n",
       "998   141.211998          Intel Core i7  1000  256    Nvidia  Windows   \n",
       "999   157.350512          Intel Core i7     0  512     Intel  Windows   \n",
       "1000  141.211998          Intel Core i7  1000  128    Nvidia  Windows   \n",
       "1001  165.632118          Intel Core i5     0  256     Intel  Windows   \n",
       "1002  100.454670          Intel Core i3     0  128     Intel  Windows   \n",
       "1003  111.935204          Intel Core i5   500    0     Intel  Windows   \n",
       "1005  111.935204          Intel Core i5     0  256     Intel  Windows   \n",
       "\n",
       "        Scrnsize  Strcap  \n",
       "980   309.254276     512  \n",
       "981   198.758542     128  \n",
       "982   310.666396     256  \n",
       "983   231.045741     256  \n",
       "984   195.886606     500  \n",
       "985   226.023007     500  \n",
       "986   288.072476    1000  \n",
       "987   353.029995    1128  \n",
       "988   237.073021    1000  \n",
       "989   251.760819     128  \n",
       "990   170.945596     512  \n",
       "991   296.545196    1128  \n",
       "992   190.863873     128  \n",
       "993   324.787596     256  \n",
       "994   278.261958     256  \n",
       "995   386.474942     256  \n",
       "996   183.851651     256  \n",
       "997   241.091208     500  \n",
       "998   353.029995    1256  \n",
       "999   232.878758     512  \n",
       "1000  381.272395    1128  \n",
       "1001  221.947038     256  \n",
       "1002  218.991180     128  \n",
       "1003  183.573734     500  \n",
       "1005  165.664101     256  "
      ]
     },
     "execution_count": 13,
     "metadata": {},
     "output_type": "execute_result"
    }
   ],
   "source": [
    "df.iloc[980:1005]"
   ]
  },
  {
   "cell_type": "code",
   "execution_count": 14,
   "id": "65d778da-d6d8-46e0-8d6a-8aa7f60a323f",
   "metadata": {},
   "outputs": [
    {
     "data": {
      "text/html": [
       "<div>\n",
       "<style scoped>\n",
       "    .dataframe tbody tr th:only-of-type {\n",
       "        vertical-align: middle;\n",
       "    }\n",
       "\n",
       "    .dataframe tbody tr th {\n",
       "        vertical-align: top;\n",
       "    }\n",
       "\n",
       "    .dataframe thead th {\n",
       "        text-align: right;\n",
       "    }\n",
       "</style>\n",
       "<table border=\"1\" class=\"dataframe\">\n",
       "  <thead>\n",
       "    <tr style=\"text-align: right;\">\n",
       "      <th></th>\n",
       "      <th>Company</th>\n",
       "      <th>TypeName</th>\n",
       "      <th>Ram</th>\n",
       "      <th>Weight</th>\n",
       "      <th>Price</th>\n",
       "      <th>TS</th>\n",
       "      <th>Ips</th>\n",
       "      <th>Ppi</th>\n",
       "      <th>Cpu_brand</th>\n",
       "      <th>HDD</th>\n",
       "      <th>SSD</th>\n",
       "      <th>Gpu_brand</th>\n",
       "      <th>Os</th>\n",
       "      <th>Scrnsize</th>\n",
       "      <th>Strcap</th>\n",
       "    </tr>\n",
       "  </thead>\n",
       "  <tbody>\n",
       "  </tbody>\n",
       "</table>\n",
       "</div>"
      ],
      "text/plain": [
       "Empty DataFrame\n",
       "Columns: [Company, TypeName, Ram, Weight, Price, TS, Ips, Ppi, Cpu_brand, HDD, SSD, Gpu_brand, Os, Scrnsize, Strcap]\n",
       "Index: []"
      ]
     },
     "execution_count": 14,
     "metadata": {},
     "output_type": "execute_result"
    }
   ],
   "source": [
    "df[df.duplicated()]"
   ]
  },
  {
   "cell_type": "code",
   "execution_count": 15,
   "id": "915e8f5c-8d9d-4f9a-825b-056a1e0adebd",
   "metadata": {},
   "outputs": [
    {
     "data": {
      "text/plain": [
       "(1272, 15)"
      ]
     },
     "execution_count": 15,
     "metadata": {},
     "output_type": "execute_result"
    }
   ],
   "source": [
    "df.shape"
   ]
  },
  {
   "cell_type": "code",
   "execution_count": 16,
   "id": "95159fd2-0bda-43b8-a694-a565de1bee9d",
   "metadata": {},
   "outputs": [
    {
     "data": {
      "text/html": [
       "<div>\n",
       "<style scoped>\n",
       "    .dataframe tbody tr th:only-of-type {\n",
       "        vertical-align: middle;\n",
       "    }\n",
       "\n",
       "    .dataframe tbody tr th {\n",
       "        vertical-align: top;\n",
       "    }\n",
       "\n",
       "    .dataframe thead th {\n",
       "        text-align: right;\n",
       "    }\n",
       "</style>\n",
       "<table border=\"1\" class=\"dataframe\">\n",
       "  <thead>\n",
       "    <tr style=\"text-align: right;\">\n",
       "      <th></th>\n",
       "      <th>Ram</th>\n",
       "      <th>Weight</th>\n",
       "      <th>Price</th>\n",
       "      <th>TS</th>\n",
       "      <th>Ips</th>\n",
       "      <th>Ppi</th>\n",
       "      <th>HDD</th>\n",
       "      <th>SSD</th>\n",
       "      <th>Scrnsize</th>\n",
       "      <th>Strcap</th>\n",
       "    </tr>\n",
       "  </thead>\n",
       "  <tbody>\n",
       "    <tr>\n",
       "      <th>count</th>\n",
       "      <td>1272.000000</td>\n",
       "      <td>1272.000000</td>\n",
       "      <td>1272.000000</td>\n",
       "      <td>1272.000000</td>\n",
       "      <td>1272.000000</td>\n",
       "      <td>1272.000000</td>\n",
       "      <td>1272.000000</td>\n",
       "      <td>1272.000000</td>\n",
       "      <td>1272.000000</td>\n",
       "      <td>1272.000000</td>\n",
       "    </tr>\n",
       "    <tr>\n",
       "      <th>mean</th>\n",
       "      <td>8.451258</td>\n",
       "      <td>2.041761</td>\n",
       "      <td>10.828035</td>\n",
       "      <td>0.147013</td>\n",
       "      <td>0.279874</td>\n",
       "      <td>146.936126</td>\n",
       "      <td>414.040881</td>\n",
       "      <td>186.298742</td>\n",
       "      <td>290.842125</td>\n",
       "      <td>600.339623</td>\n",
       "    </tr>\n",
       "    <tr>\n",
       "      <th>std</th>\n",
       "      <td>5.099249</td>\n",
       "      <td>0.669088</td>\n",
       "      <td>0.619774</td>\n",
       "      <td>0.354258</td>\n",
       "      <td>0.449114</td>\n",
       "      <td>42.940459</td>\n",
       "      <td>518.128204</td>\n",
       "      <td>186.597777</td>\n",
       "      <td>110.470919</td>\n",
       "      <td>475.130570</td>\n",
       "    </tr>\n",
       "    <tr>\n",
       "      <th>min</th>\n",
       "      <td>2.000000</td>\n",
       "      <td>0.690000</td>\n",
       "      <td>9.134616</td>\n",
       "      <td>0.000000</td>\n",
       "      <td>0.000000</td>\n",
       "      <td>90.583402</td>\n",
       "      <td>0.000000</td>\n",
       "      <td>0.000000</td>\n",
       "      <td>132.392327</td>\n",
       "      <td>0.000000</td>\n",
       "    </tr>\n",
       "    <tr>\n",
       "      <th>25%</th>\n",
       "      <td>4.000000</td>\n",
       "      <td>1.500000</td>\n",
       "      <td>10.387379</td>\n",
       "      <td>0.000000</td>\n",
       "      <td>0.000000</td>\n",
       "      <td>127.335675</td>\n",
       "      <td>0.000000</td>\n",
       "      <td>0.000000</td>\n",
       "      <td>220.822885</td>\n",
       "      <td>256.000000</td>\n",
       "    </tr>\n",
       "    <tr>\n",
       "      <th>50%</th>\n",
       "      <td>8.000000</td>\n",
       "      <td>2.040000</td>\n",
       "      <td>10.872255</td>\n",
       "      <td>0.000000</td>\n",
       "      <td>0.000000</td>\n",
       "      <td>141.211998</td>\n",
       "      <td>0.000000</td>\n",
       "      <td>256.000000</td>\n",
       "      <td>272.539156</td>\n",
       "      <td>500.000000</td>\n",
       "    </tr>\n",
       "    <tr>\n",
       "      <th>75%</th>\n",
       "      <td>8.000000</td>\n",
       "      <td>2.310000</td>\n",
       "      <td>11.287447</td>\n",
       "      <td>0.000000</td>\n",
       "      <td>1.000000</td>\n",
       "      <td>157.350512</td>\n",
       "      <td>1000.000000</td>\n",
       "      <td>256.000000</td>\n",
       "      <td>325.140626</td>\n",
       "      <td>1000.000000</td>\n",
       "    </tr>\n",
       "    <tr>\n",
       "      <th>max</th>\n",
       "      <td>64.000000</td>\n",
       "      <td>4.700000</td>\n",
       "      <td>12.691441</td>\n",
       "      <td>1.000000</td>\n",
       "      <td>1.000000</td>\n",
       "      <td>352.465147</td>\n",
       "      <td>2000.000000</td>\n",
       "      <td>1024.000000</td>\n",
       "      <td>1248.314063</td>\n",
       "      <td>2512.000000</td>\n",
       "    </tr>\n",
       "  </tbody>\n",
       "</table>\n",
       "</div>"
      ],
      "text/plain": [
       "               Ram       Weight        Price           TS          Ips  \\\n",
       "count  1272.000000  1272.000000  1272.000000  1272.000000  1272.000000   \n",
       "mean      8.451258     2.041761    10.828035     0.147013     0.279874   \n",
       "std       5.099249     0.669088     0.619774     0.354258     0.449114   \n",
       "min       2.000000     0.690000     9.134616     0.000000     0.000000   \n",
       "25%       4.000000     1.500000    10.387379     0.000000     0.000000   \n",
       "50%       8.000000     2.040000    10.872255     0.000000     0.000000   \n",
       "75%       8.000000     2.310000    11.287447     0.000000     1.000000   \n",
       "max      64.000000     4.700000    12.691441     1.000000     1.000000   \n",
       "\n",
       "               Ppi          HDD          SSD     Scrnsize       Strcap  \n",
       "count  1272.000000  1272.000000  1272.000000  1272.000000  1272.000000  \n",
       "mean    146.936126   414.040881   186.298742   290.842125   600.339623  \n",
       "std      42.940459   518.128204   186.597777   110.470919   475.130570  \n",
       "min      90.583402     0.000000     0.000000   132.392327     0.000000  \n",
       "25%     127.335675     0.000000     0.000000   220.822885   256.000000  \n",
       "50%     141.211998     0.000000   256.000000   272.539156   500.000000  \n",
       "75%     157.350512  1000.000000   256.000000   325.140626  1000.000000  \n",
       "max     352.465147  2000.000000  1024.000000  1248.314063  2512.000000  "
      ]
     },
     "execution_count": 16,
     "metadata": {},
     "output_type": "execute_result"
    }
   ],
   "source": [
    "df.describe()"
   ]
  },
  {
   "cell_type": "markdown",
   "id": "d14c8e82-347c-4ac0-a6b7-06e8bb640b38",
   "metadata": {},
   "source": [
    "## Data Visualization"
   ]
  },
  {
   "cell_type": "code",
   "execution_count": 17,
   "id": "c65a8b65-053e-401c-ace6-70cfba01a104",
   "metadata": {},
   "outputs": [
    {
     "data": {
      "text/plain": [
       "<Axes: xlabel='Company'>"
      ]
     },
     "execution_count": 17,
     "metadata": {},
     "output_type": "execute_result"
    },
    {
     "data": {
      "image/png": "[encoded data removed]",
      "text/plain": [
       "<Figure size 640x480 with 1 Axes>"
      ]
     },
     "metadata": {},
     "output_type": "display_data"
    }
   ],
   "source": [
    "df['Company'].value_counts().plot(kind='bar')"
   ]
  },
  {
   "cell_type": "code",
   "execution_count": 18,
   "id": "00fa9091-d677-46ab-822d-296369abb70b",
   "metadata": {},
   "outputs": [
    {
     "data": {
      "text/plain": [
       "<Axes: xlabel='TypeName'>"
      ]
     },
     "execution_count": 18,
     "metadata": {},
     "output_type": "execute_result"
    },
    {
     "data": {
      "image/png": "[encoded data removed]",
      "text/plain": [
       "<Figure size 640x480 with 1 Axes>"
      ]
     },
     "metadata": {},
     "output_type": "display_data"
    }
   ],
   "source": [
    "df['TypeName'].value_counts().plot(kind='bar')"
   ]
  },
  {
   "cell_type": "code",
   "execution_count": 19,
   "id": "a4645d0c-ad94-4e7e-b42b-f2d342f88eff",
   "metadata": {},
   "outputs": [
    {
     "data": {
      "text/plain": [
       "<Axes: xlabel='Ram'>"
      ]
     },
     "execution_count": 19,
     "metadata": {},
     "output_type": "execute_result"
    },
    {
     "data": {
      "image/png": "[encoded data removed]",
      "text/plain": [
       "<Figure size 640x480 with 1 Axes>"
      ]
     },
     "metadata": {},
     "output_type": "display_data"
    }
   ],
   "source": [
    "df['Ram'].value_counts().plot(kind='bar')"
   ]
  },
  {
   "cell_type": "code",
   "execution_count": 20,
   "id": "4b733568-7fd1-46b6-b221-b09e2634013e",
   "metadata": {},
   "outputs": [
    {
     "data": {
      "text/plain": [
       "<Axes: xlabel='Os'>"
      ]
     },
     "execution_count": 20,
     "metadata": {},
     "output_type": "execute_result"
    },
    {
     "data": {
      "image/png": "[encoded data removed]",
      "text/plain": [
       "<Figure size 640x480 with 1 Axes>"
      ]
     },
     "metadata": {},
     "output_type": "display_data"
    }
   ],
   "source": [
    "df['Os'].value_counts().plot(kind='bar')"
   ]
  },
  {
   "cell_type": "code",
   "execution_count": 21,
   "id": "98bffbf0-3c11-41cf-9124-0ee154fb6f22",
   "metadata": {},
   "outputs": [
    {
     "data": {
      "text/plain": [
       "<Axes: xlabel='TS'>"
      ]
     },
     "execution_count": 21,
     "metadata": {},
     "output_type": "execute_result"
    },
    {
     "data": {
      "image/png": "[encoded data removed]",
      "text/plain": [
       "<Figure size 640x480 with 1 Axes>"
      ]
     },
     "metadata": {},
     "output_type": "display_data"
    }
   ],
   "source": [
    "df['TS'].value_counts().plot(kind='bar')"
   ]
  },
  {
   "cell_type": "code",
   "execution_count": 22,
   "id": "2dc28a6e-5fc6-4a81-aae9-ed34077a9fa7",
   "metadata": {},
   "outputs": [
    {
     "data": {
      "text/plain": [
       "<Axes: xlabel='Ips'>"
      ]
     },
     "execution_count": 22,
     "metadata": {},
     "output_type": "execute_result"
    },
    {
     "data": {
      "image/png": "[encoded data removed]",
      "text/plain": [
       "<Figure size 640x480 with 1 Axes>"
      ]
     },
     "metadata": {},
     "output_type": "display_data"
    }
   ],
   "source": [
    "df['Ips'].value_counts().plot(kind='bar')"
   ]
  },
  {
   "cell_type": "code",
   "execution_count": 23,
   "id": "b822a4a3-6623-4f92-864f-8ddf27052e76",
   "metadata": {},
   "outputs": [
    {
     "data": {
      "text/plain": [
       "<Axes: xlabel='HDD'>"
      ]
     },
     "execution_count": 23,
     "metadata": {},
     "output_type": "execute_result"
    },
    {
     "data": {
      "image/png": "[encoded data removed]",
      "text/plain": [
       "<Figure size 640x480 with 1 Axes>"
      ]
     },
     "metadata": {},
     "output_type": "display_data"
    }
   ],
   "source": [
    "df['HDD'].value_counts().plot(kind='bar')"
   ]
  },
  {
   "cell_type": "code",
   "execution_count": 24,
   "id": "34d07f73-a8c8-4bac-98eb-c61982694308",
   "metadata": {},
   "outputs": [
    {
     "data": {
      "text/plain": [
       "<Axes: xlabel='SSD'>"
      ]
     },
     "execution_count": 24,
     "metadata": {},
     "output_type": "execute_result"
    },
    {
     "data": {
      "image/png": "[encoded data removed]",
      "text/plain": [
       "<Figure size 640x480 with 1 Axes>"
      ]
     },
     "metadata": {},
     "output_type": "display_data"
    }
   ],
   "source": [
    "df['SSD'].value_counts().plot(kind='bar')"
   ]
  },
  {
   "cell_type": "code",
   "execution_count": 25,
   "id": "1836e511-cf1a-4f60-9d73-c2951a5846d8",
   "metadata": {},
   "outputs": [
    {
     "data": {
      "text/plain": [
       "<Axes: xlabel='Gpu_brand'>"
      ]
     },
     "execution_count": 25,
     "metadata": {},
     "output_type": "execute_result"
    },
    {
     "data": {
      "image/png": "[encoded data removed]",
      "text/plain": [
       "<Figure size 640x480 with 1 Axes>"
      ]
     },
     "metadata": {},
     "output_type": "display_data"
    }
   ],
   "source": [
    "df['Gpu_brand'].value_counts().plot(kind='bar')"
   ]
  },
  {
   "cell_type": "code",
   "execution_count": 26,
   "id": "cd6be988-d1af-433f-81eb-8b4075e27175",
   "metadata": {},
   "outputs": [
    {
     "name": "stderr",
     "output_type": "stream",
     "text": [
      "C:\\Users\\captaindeadpool\\AppData\\Local\\Temp\\ipykernel_22092\\834922981.py:1: UserWarning: \n",
      "\n",
      "`distplot` is a deprecated function and will be removed in seaborn v0.14.0.\n",
      "\n",
      "Please adapt your code to use either `displot` (a figure-level function with\n",
      "similar flexibility) or `histplot` (an axes-level function for histograms).\n",
      "\n",
      "For a guide to updating your code to use the new functions, please see\n",
      "https://gist.github.com/mwaskom/de44147ed2974457ad6372750bbe5751\n",
      "\n",
      "  sns.distplot(df['Price'])\n"
     ]
    },
    {
     "data": {
      "text/plain": [
       "<Axes: xlabel='Price', ylabel='Density'>"
      ]
     },
     "execution_count": 26,
     "metadata": {},
     "output_type": "execute_result"
    },
    {
     "data": {
      "image/png": "[encoded data removed]",
      "text/plain": [
       "<Figure size 640x480 with 1 Axes>"
      ]
     },
     "metadata": {},
     "output_type": "display_data"
    }
   ],
   "source": [
    "sns.distplot(df['Price'])"
   ]
  },
  {
   "cell_type": "code",
   "execution_count": 27,
   "id": "73a7d5c2-ef7f-402f-bb6e-5131787fcefc",
   "metadata": {},
   "outputs": [
    {
     "data": {
      "text/plain": [
       "Index(['Company', 'TypeName', 'Ram', 'Weight', 'Price', 'TS', 'Ips', 'Ppi',\n",
       "       'Cpu_brand', 'HDD', 'SSD', 'Gpu_brand', 'Os', 'Scrnsize', 'Strcap'],\n",
       "      dtype='object')"
      ]
     },
     "execution_count": 27,
     "metadata": {},
     "output_type": "execute_result"
    }
   ],
   "source": [
    "df.columns"
   ]
  },
  {
   "cell_type": "code",
   "execution_count": 28,
   "id": "96bc979a-4bf1-45e5-845b-1f2f33e5db43",
   "metadata": {},
   "outputs": [],
   "source": [
    "feature=['Company', 'TypeName','Cpu_brand','Gpu_brand', 'Os']"
   ]
  },
  {
   "cell_type": "code",
   "execution_count": 29,
   "id": "befd8a02-79f0-4ad7-9bc9-28056b8223a9",
   "metadata": {},
   "outputs": [
    {
     "data": {
      "text/html": [
       "<div>\n",
       "<style scoped>\n",
       "    .dataframe tbody tr th:only-of-type {\n",
       "        vertical-align: middle;\n",
       "    }\n",
       "\n",
       "    .dataframe tbody tr th {\n",
       "        vertical-align: top;\n",
       "    }\n",
       "\n",
       "    .dataframe thead th {\n",
       "        text-align: right;\n",
       "    }\n",
       "</style>\n",
       "<table border=\"1\" class=\"dataframe\">\n",
       "  <thead>\n",
       "    <tr style=\"text-align: right;\">\n",
       "      <th></th>\n",
       "      <th>Company</th>\n",
       "      <th>TypeName</th>\n",
       "      <th>Ram</th>\n",
       "      <th>Weight</th>\n",
       "      <th>Price</th>\n",
       "      <th>TS</th>\n",
       "      <th>Ips</th>\n",
       "      <th>Ppi</th>\n",
       "      <th>Cpu_brand</th>\n",
       "      <th>HDD</th>\n",
       "      <th>SSD</th>\n",
       "      <th>Gpu_brand</th>\n",
       "      <th>Os</th>\n",
       "      <th>Scrnsize</th>\n",
       "      <th>Strcap</th>\n",
       "    </tr>\n",
       "  </thead>\n",
       "  <tbody>\n",
       "    <tr>\n",
       "      <th>196</th>\n",
       "      <td>Razer</td>\n",
       "      <td>Gaming</td>\n",
       "      <td>32</td>\n",
       "      <td>3.49</td>\n",
       "      <td>12.691441</td>\n",
       "      <td>1</td>\n",
       "      <td>0</td>\n",
       "      <td>254.671349</td>\n",
       "      <td>Intel Core i7</td>\n",
       "      <td>0</td>\n",
       "      <td>1000</td>\n",
       "      <td>Nvidia</td>\n",
       "      <td>Windows</td>\n",
       "      <td>888.803009</td>\n",
       "      <td>1000</td>\n",
       "    </tr>\n",
       "    <tr>\n",
       "      <th>647</th>\n",
       "      <td>Razer</td>\n",
       "      <td>Gaming</td>\n",
       "      <td>16</td>\n",
       "      <td>1.95</td>\n",
       "      <td>11.838443</td>\n",
       "      <td>0</td>\n",
       "      <td>0</td>\n",
       "      <td>157.350512</td>\n",
       "      <td>Intel Core i7</td>\n",
       "      <td>0</td>\n",
       "      <td>256</td>\n",
       "      <td>Nvidia</td>\n",
       "      <td>Windows</td>\n",
       "      <td>306.833499</td>\n",
       "      <td>256</td>\n",
       "    </tr>\n",
       "    <tr>\n",
       "      <th>778</th>\n",
       "      <td>Razer</td>\n",
       "      <td>Gaming</td>\n",
       "      <td>16</td>\n",
       "      <td>1.95</td>\n",
       "      <td>11.947682</td>\n",
       "      <td>0</td>\n",
       "      <td>0</td>\n",
       "      <td>157.350512</td>\n",
       "      <td>Intel Core i7</td>\n",
       "      <td>0</td>\n",
       "      <td>512</td>\n",
       "      <td>Nvidia</td>\n",
       "      <td>Windows</td>\n",
       "      <td>306.833499</td>\n",
       "      <td>512</td>\n",
       "    </tr>\n",
       "    <tr>\n",
       "      <th>816</th>\n",
       "      <td>Razer</td>\n",
       "      <td>Ultrabook</td>\n",
       "      <td>16</td>\n",
       "      <td>1.29</td>\n",
       "      <td>11.470547</td>\n",
       "      <td>1</td>\n",
       "      <td>1</td>\n",
       "      <td>352.465147</td>\n",
       "      <td>Intel Core i7</td>\n",
       "      <td>0</td>\n",
       "      <td>512</td>\n",
       "      <td>Intel</td>\n",
       "      <td>Windows</td>\n",
       "      <td>454.680040</td>\n",
       "      <td>512</td>\n",
       "    </tr>\n",
       "    <tr>\n",
       "      <th>830</th>\n",
       "      <td>Razer</td>\n",
       "      <td>Gaming</td>\n",
       "      <td>32</td>\n",
       "      <td>3.49</td>\n",
       "      <td>12.587883</td>\n",
       "      <td>1</td>\n",
       "      <td>0</td>\n",
       "      <td>254.671349</td>\n",
       "      <td>Intel Core i7</td>\n",
       "      <td>0</td>\n",
       "      <td>512</td>\n",
       "      <td>Nvidia</td>\n",
       "      <td>Windows</td>\n",
       "      <td>888.803009</td>\n",
       "      <td>512</td>\n",
       "    </tr>\n",
       "    <tr>\n",
       "      <th>1117</th>\n",
       "      <td>Razer</td>\n",
       "      <td>Ultrabook</td>\n",
       "      <td>8</td>\n",
       "      <td>1.25</td>\n",
       "      <td>10.911904</td>\n",
       "      <td>1</td>\n",
       "      <td>0</td>\n",
       "      <td>352.465147</td>\n",
       "      <td>Intel Core i7</td>\n",
       "      <td>0</td>\n",
       "      <td>256</td>\n",
       "      <td>Intel</td>\n",
       "      <td>Windows</td>\n",
       "      <td>440.581434</td>\n",
       "      <td>256</td>\n",
       "    </tr>\n",
       "    <tr>\n",
       "      <th>1230</th>\n",
       "      <td>Razer</td>\n",
       "      <td>Gaming</td>\n",
       "      <td>16</td>\n",
       "      <td>1.95</td>\n",
       "      <td>12.135794</td>\n",
       "      <td>0</td>\n",
       "      <td>0</td>\n",
       "      <td>157.350512</td>\n",
       "      <td>Intel Core i7</td>\n",
       "      <td>0</td>\n",
       "      <td>1000</td>\n",
       "      <td>Nvidia</td>\n",
       "      <td>Windows</td>\n",
       "      <td>306.833499</td>\n",
       "      <td>1000</td>\n",
       "    </tr>\n",
       "  </tbody>\n",
       "</table>\n",
       "</div>"
      ],
      "text/plain": [
       "     Company   TypeName  Ram  Weight      Price  TS  Ips         Ppi  \\\n",
       "196    Razer     Gaming   32    3.49  12.691441   1    0  254.671349   \n",
       "647    Razer     Gaming   16    1.95  11.838443   0    0  157.350512   \n",
       "778    Razer     Gaming   16    1.95  11.947682   0    0  157.350512   \n",
       "816    Razer  Ultrabook   16    1.29  11.470547   1    1  352.465147   \n",
       "830    Razer     Gaming   32    3.49  12.587883   1    0  254.671349   \n",
       "1117   Razer  Ultrabook    8    1.25  10.911904   1    0  352.465147   \n",
       "1230   Razer     Gaming   16    1.95  12.135794   0    0  157.350512   \n",
       "\n",
       "          Cpu_brand  HDD   SSD Gpu_brand       Os    Scrnsize  Strcap  \n",
       "196   Intel Core i7    0  1000    Nvidia  Windows  888.803009    1000  \n",
       "647   Intel Core i7    0   256    Nvidia  Windows  306.833499     256  \n",
       "778   Intel Core i7    0   512    Nvidia  Windows  306.833499     512  \n",
       "816   Intel Core i7    0   512     Intel  Windows  454.680040     512  \n",
       "830   Intel Core i7    0   512    Nvidia  Windows  888.803009     512  \n",
       "1117  Intel Core i7    0   256     Intel  Windows  440.581434     256  \n",
       "1230  Intel Core i7    0  1000    Nvidia  Windows  306.833499    1000  "
      ]
     },
     "execution_count": 29,
     "metadata": {},
     "output_type": "execute_result"
    }
   ],
   "source": [
    "df[df['Company']=='Razer']"
   ]
  },
  {
   "cell_type": "code",
   "execution_count": 30,
   "id": "8571e375-7168-4268-b16c-65d9ca44e043",
   "metadata": {},
   "outputs": [
    {
     "data": {
      "image/png": "[encoded data removed]",
      "text/plain": [
       "<Figure size 2000x2500 with 5 Axes>"
      ]
     },
     "metadata": {},
     "output_type": "display_data"
    }
   ],
   "source": [
    "plt.figure(figsize=(20,25))\n",
    "for i in enumerate(feature):\n",
    "    plt.subplot(2,3,i[0]+1)\n",
    "    sns.barplot(x=i[1],y='Price',data=df)\n",
    "    plt.xticks(rotation='vertical')"
   ]
  },
  {
   "cell_type": "code",
   "execution_count": 31,
   "id": "e6d2e8e6-7379-49f8-be7b-f3cb3b34ed01",
   "metadata": {},
   "outputs": [
    {
     "data": {
      "text/plain": [
       "Index(['Notebook', 'Gaming', 'Ultrabook', '2 in 1 Convertible', 'Workstation',\n",
       "       'Netbook'],\n",
       "      dtype='object', name='TypeName')"
      ]
     },
     "execution_count": 31,
     "metadata": {},
     "output_type": "execute_result"
    }
   ],
   "source": [
    "laptop_type=df['TypeName'].value_counts().index\n",
    "laptop_type"
   ]
  },
  {
   "cell_type": "code",
   "execution_count": 32,
   "id": "864a75b7-9659-483b-925d-17569fd88813",
   "metadata": {},
   "outputs": [
    {
     "data": {
      "text/plain": [
       "array([705, 205, 194, 116,  29,  23], dtype=int64)"
      ]
     },
     "execution_count": 32,
     "metadata": {},
     "output_type": "execute_result"
    }
   ],
   "source": [
    "laptop_value=df['TypeName'].value_counts().values\n",
    "laptop_value"
   ]
  },
  {
   "cell_type": "code",
   "execution_count": 33,
   "id": "ab973b1c-d1ff-4c5c-9840-7c84d2ecb6e2",
   "metadata": {},
   "outputs": [
    {
     "data": {
      "image/png": "[encoded data removed]",
      "text/plain": [
       "<Figure size 640x480 with 1 Axes>"
      ]
     },
     "metadata": {},
     "output_type": "display_data"
    }
   ],
   "source": [
    "plt.pie(laptop_value[:3],labels=laptop_type[:3],autopct='%1.1f%%');"
   ]
  },
  {
   "cell_type": "code",
   "execution_count": 34,
   "id": "c6cda871-71a1-42c7-986c-844d360b0ede",
   "metadata": {
    "scrolled": true
   },
   "outputs": [
    {
     "data": {
      "text/html": [
       "<div>\n",
       "<style scoped>\n",
       "    .dataframe tbody tr th:only-of-type {\n",
       "        vertical-align: middle;\n",
       "    }\n",
       "\n",
       "    .dataframe tbody tr th {\n",
       "        vertical-align: top;\n",
       "    }\n",
       "\n",
       "    .dataframe thead th {\n",
       "        text-align: right;\n",
       "    }\n",
       "</style>\n",
       "<table border=\"1\" class=\"dataframe\">\n",
       "  <thead>\n",
       "    <tr style=\"text-align: right;\">\n",
       "      <th></th>\n",
       "      <th>Ram</th>\n",
       "      <th>Weight</th>\n",
       "      <th>Price</th>\n",
       "      <th>TS</th>\n",
       "      <th>Ips</th>\n",
       "      <th>Ppi</th>\n",
       "      <th>HDD</th>\n",
       "      <th>SSD</th>\n",
       "      <th>Scrnsize</th>\n",
       "      <th>Strcap</th>\n",
       "    </tr>\n",
       "  </thead>\n",
       "  <tbody>\n",
       "    <tr>\n",
       "      <th>0</th>\n",
       "      <td>8</td>\n",
       "      <td>1.37</td>\n",
       "      <td>11.175755</td>\n",
       "      <td>0</td>\n",
       "      <td>1</td>\n",
       "      <td>226.983005</td>\n",
       "      <td>0</td>\n",
       "      <td>128</td>\n",
       "      <td>310.966716</td>\n",
       "      <td>128</td>\n",
       "    </tr>\n",
       "    <tr>\n",
       "      <th>1</th>\n",
       "      <td>8</td>\n",
       "      <td>1.34</td>\n",
       "      <td>10.776777</td>\n",
       "      <td>0</td>\n",
       "      <td>0</td>\n",
       "      <td>127.677940</td>\n",
       "      <td>0</td>\n",
       "      <td>0</td>\n",
       "      <td>171.088440</td>\n",
       "      <td>0</td>\n",
       "    </tr>\n",
       "    <tr>\n",
       "      <th>2</th>\n",
       "      <td>8</td>\n",
       "      <td>1.86</td>\n",
       "      <td>10.329931</td>\n",
       "      <td>0</td>\n",
       "      <td>0</td>\n",
       "      <td>141.211998</td>\n",
       "      <td>0</td>\n",
       "      <td>256</td>\n",
       "      <td>262.654316</td>\n",
       "      <td>256</td>\n",
       "    </tr>\n",
       "    <tr>\n",
       "      <th>3</th>\n",
       "      <td>16</td>\n",
       "      <td>1.83</td>\n",
       "      <td>11.814476</td>\n",
       "      <td>0</td>\n",
       "      <td>1</td>\n",
       "      <td>220.534624</td>\n",
       "      <td>0</td>\n",
       "      <td>512</td>\n",
       "      <td>403.578362</td>\n",
       "      <td>512</td>\n",
       "    </tr>\n",
       "    <tr>\n",
       "      <th>4</th>\n",
       "      <td>8</td>\n",
       "      <td>1.37</td>\n",
       "      <td>11.473101</td>\n",
       "      <td>0</td>\n",
       "      <td>1</td>\n",
       "      <td>226.983005</td>\n",
       "      <td>0</td>\n",
       "      <td>256</td>\n",
       "      <td>310.966716</td>\n",
       "      <td>256</td>\n",
       "    </tr>\n",
       "    <tr>\n",
       "      <th>...</th>\n",
       "      <td>...</td>\n",
       "      <td>...</td>\n",
       "      <td>...</td>\n",
       "      <td>...</td>\n",
       "      <td>...</td>\n",
       "      <td>...</td>\n",
       "      <td>...</td>\n",
       "      <td>...</td>\n",
       "      <td>...</td>\n",
       "      <td>...</td>\n",
       "    </tr>\n",
       "    <tr>\n",
       "      <th>1268</th>\n",
       "      <td>4</td>\n",
       "      <td>2.20</td>\n",
       "      <td>10.555257</td>\n",
       "      <td>0</td>\n",
       "      <td>0</td>\n",
       "      <td>100.454670</td>\n",
       "      <td>500</td>\n",
       "      <td>0</td>\n",
       "      <td>221.000274</td>\n",
       "      <td>500</td>\n",
       "    </tr>\n",
       "    <tr>\n",
       "      <th>1269</th>\n",
       "      <td>4</td>\n",
       "      <td>1.80</td>\n",
       "      <td>10.433899</td>\n",
       "      <td>1</td>\n",
       "      <td>1</td>\n",
       "      <td>157.350512</td>\n",
       "      <td>0</td>\n",
       "      <td>128</td>\n",
       "      <td>283.230922</td>\n",
       "      <td>128</td>\n",
       "    </tr>\n",
       "    <tr>\n",
       "      <th>1270</th>\n",
       "      <td>16</td>\n",
       "      <td>1.30</td>\n",
       "      <td>11.288115</td>\n",
       "      <td>1</td>\n",
       "      <td>1</td>\n",
       "      <td>276.053530</td>\n",
       "      <td>0</td>\n",
       "      <td>512</td>\n",
       "      <td>358.869589</td>\n",
       "      <td>512</td>\n",
       "    </tr>\n",
       "    <tr>\n",
       "      <th>1271</th>\n",
       "      <td>2</td>\n",
       "      <td>1.50</td>\n",
       "      <td>9.409283</td>\n",
       "      <td>0</td>\n",
       "      <td>0</td>\n",
       "      <td>111.935204</td>\n",
       "      <td>0</td>\n",
       "      <td>0</td>\n",
       "      <td>167.902805</td>\n",
       "      <td>0</td>\n",
       "    </tr>\n",
       "    <tr>\n",
       "      <th>1272</th>\n",
       "      <td>6</td>\n",
       "      <td>2.19</td>\n",
       "      <td>10.614129</td>\n",
       "      <td>0</td>\n",
       "      <td>0</td>\n",
       "      <td>100.454670</td>\n",
       "      <td>1000</td>\n",
       "      <td>0</td>\n",
       "      <td>219.995727</td>\n",
       "      <td>1000</td>\n",
       "    </tr>\n",
       "  </tbody>\n",
       "</table>\n",
       "<p>1272 rows × 10 columns</p>\n",
       "</div>"
      ],
      "text/plain": [
       "      Ram  Weight      Price  TS  Ips         Ppi   HDD  SSD    Scrnsize  \\\n",
       "0       8    1.37  11.175755   0    1  226.983005     0  128  310.966716   \n",
       "1       8    1.34  10.776777   0    0  127.677940     0    0  171.088440   \n",
       "2       8    1.86  10.329931   0    0  141.211998     0  256  262.654316   \n",
       "3      16    1.83  11.814476   0    1  220.534624     0  512  403.578362   \n",
       "4       8    1.37  11.473101   0    1  226.983005     0  256  310.966716   \n",
       "...   ...     ...        ...  ..  ...         ...   ...  ...         ...   \n",
       "1268    4    2.20  10.555257   0    0  100.454670   500    0  221.000274   \n",
       "1269    4    1.80  10.433899   1    1  157.350512     0  128  283.230922   \n",
       "1270   16    1.30  11.288115   1    1  276.053530     0  512  358.869589   \n",
       "1271    2    1.50   9.409283   0    0  111.935204     0    0  167.902805   \n",
       "1272    6    2.19  10.614129   0    0  100.454670  1000    0  219.995727   \n",
       "\n",
       "      Strcap  \n",
       "0        128  \n",
       "1          0  \n",
       "2        256  \n",
       "3        512  \n",
       "4        256  \n",
       "...      ...  \n",
       "1268     500  \n",
       "1269     128  \n",
       "1270     512  \n",
       "1271       0  \n",
       "1272    1000  \n",
       "\n",
       "[1272 rows x 10 columns]"
      ]
     },
     "execution_count": 34,
     "metadata": {},
     "output_type": "execute_result"
    }
   ],
   "source": [
    "df_num=df.select_dtypes(np.number)\n",
    "df_num"
   ]
  },
  {
   "cell_type": "code",
   "execution_count": 35,
   "id": "3f49e04b-4bf7-48aa-acd6-06f6997b3db2",
   "metadata": {},
   "outputs": [
    {
     "data": {
      "image/png": "[encoded data removed]",
      "text/plain": [
       "<Figure size 1000x5000 with 10 Axes>"
      ]
     },
     "metadata": {},
     "output_type": "display_data"
    }
   ],
   "source": [
    "df_num.shape[1]\n",
    "fig, ax = plt.subplots(nrows=df_num.shape[1], figsize=(10,50))\n",
    "for i, col in enumerate(df_num.columns):\n",
    "    ax[i].boxplot(df_num[col])\n",
    "    ax[i].set_title(col)"
   ]
  },
  {
   "cell_type": "code",
   "execution_count": 36,
   "id": "8e444e54-fea3-49a0-ad20-de13d04cf1b0",
   "metadata": {},
   "outputs": [
    {
     "data": {
      "text/plain": [
       "<Axes: xlabel='Weight', ylabel='Count'>"
      ]
     },
     "execution_count": 36,
     "metadata": {},
     "output_type": "execute_result"
    },
    {
     "data": {
      "image/png": "[encoded data removed]",
      "text/plain": [
       "<Figure size 640x480 with 1 Axes>"
      ]
     },
     "metadata": {},
     "output_type": "display_data"
    }
   ],
   "source": [
    "sns.histplot(df['Weight'])"
   ]
  },
  {
   "cell_type": "code",
   "execution_count": 37,
   "id": "b1dc3260-2254-412f-9e26-564c5c8ec3ec",
   "metadata": {},
   "outputs": [
    {
     "data": {
      "text/plain": [
       "<Axes: xlabel='Price'>"
      ]
     },
     "execution_count": 37,
     "metadata": {},
     "output_type": "execute_result"
    },
    {
     "data": {
      "image/png": "[encoded data removed]",
      "text/plain": [
       "<Figure size 640x480 with 1 Axes>"
      ]
     },
     "metadata": {},
     "output_type": "display_data"
    }
   ],
   "source": [
    "sns.boxplot(x='Price',data=df)"
   ]
  },
  {
   "cell_type": "code",
   "execution_count": 38,
   "id": "d382f1d4-dca7-46a8-91b5-940a4305a285",
   "metadata": {},
   "outputs": [
    {
     "data": {
      "text/plain": [
       "<Axes: xlabel='Price', ylabel='Count'>"
      ]
     },
     "execution_count": 38,
     "metadata": {},
     "output_type": "execute_result"
    },
    {
     "data": {
      "image/png": "[encoded data removed]",
      "text/plain": [
       "<Figure size 640x480 with 1 Axes>"
      ]
     },
     "metadata": {},
     "output_type": "display_data"
    }
   ],
   "source": [
    "sns.histplot(df['Price'])"
   ]
  },
  {
   "cell_type": "code",
   "execution_count": 39,
   "id": "70d67f51-e45e-4b70-93ab-1f0cc6f70d80",
   "metadata": {},
   "outputs": [
    {
     "data": {
      "text/plain": [
       "<Axes: xlabel='Scrnsize'>"
      ]
     },
     "execution_count": 39,
     "metadata": {},
     "output_type": "execute_result"
    },
    {
     "data": {
      "image/png": "[encoded data removed]",
      "text/plain": [
       "<Figure size 640x480 with 1 Axes>"
      ]
     },
     "metadata": {},
     "output_type": "display_data"
    }
   ],
   "source": [
    "sns.boxplot(x='Scrnsize',data=df)"
   ]
  },
  {
   "cell_type": "code",
   "execution_count": 40,
   "id": "95638222-5cfc-4468-98ff-931034f1cc88",
   "metadata": {},
   "outputs": [
    {
     "data": {
      "text/html": [
       "<div>\n",
       "<style scoped>\n",
       "    .dataframe tbody tr th:only-of-type {\n",
       "        vertical-align: middle;\n",
       "    }\n",
       "\n",
       "    .dataframe tbody tr th {\n",
       "        vertical-align: top;\n",
       "    }\n",
       "\n",
       "    .dataframe thead th {\n",
       "        text-align: right;\n",
       "    }\n",
       "</style>\n",
       "<table border=\"1\" class=\"dataframe\">\n",
       "  <thead>\n",
       "    <tr style=\"text-align: right;\">\n",
       "      <th></th>\n",
       "      <th>Company</th>\n",
       "      <th>TypeName</th>\n",
       "      <th>Ram</th>\n",
       "      <th>Weight</th>\n",
       "      <th>Price</th>\n",
       "      <th>TS</th>\n",
       "      <th>Ips</th>\n",
       "      <th>Ppi</th>\n",
       "      <th>Cpu_brand</th>\n",
       "      <th>HDD</th>\n",
       "      <th>SSD</th>\n",
       "      <th>Gpu_brand</th>\n",
       "      <th>Os</th>\n",
       "      <th>Scrnsize</th>\n",
       "      <th>Strcap</th>\n",
       "    </tr>\n",
       "  </thead>\n",
       "  <tbody>\n",
       "    <tr>\n",
       "      <th>0</th>\n",
       "      <td>Apple</td>\n",
       "      <td>Ultrabook</td>\n",
       "      <td>8</td>\n",
       "      <td>1.37</td>\n",
       "      <td>11.175755</td>\n",
       "      <td>0</td>\n",
       "      <td>1</td>\n",
       "      <td>226.983005</td>\n",
       "      <td>Intel Core i5</td>\n",
       "      <td>0</td>\n",
       "      <td>128</td>\n",
       "      <td>Intel</td>\n",
       "      <td>Mac</td>\n",
       "      <td>310.966716</td>\n",
       "      <td>128</td>\n",
       "    </tr>\n",
       "    <tr>\n",
       "      <th>1</th>\n",
       "      <td>Apple</td>\n",
       "      <td>Ultrabook</td>\n",
       "      <td>8</td>\n",
       "      <td>1.34</td>\n",
       "      <td>10.776777</td>\n",
       "      <td>0</td>\n",
       "      <td>0</td>\n",
       "      <td>127.677940</td>\n",
       "      <td>Intel Core i5</td>\n",
       "      <td>0</td>\n",
       "      <td>0</td>\n",
       "      <td>Intel</td>\n",
       "      <td>Mac</td>\n",
       "      <td>171.088440</td>\n",
       "      <td>0</td>\n",
       "    </tr>\n",
       "    <tr>\n",
       "      <th>2</th>\n",
       "      <td>HP</td>\n",
       "      <td>Notebook</td>\n",
       "      <td>8</td>\n",
       "      <td>1.86</td>\n",
       "      <td>10.329931</td>\n",
       "      <td>0</td>\n",
       "      <td>0</td>\n",
       "      <td>141.211998</td>\n",
       "      <td>Intel Core i5</td>\n",
       "      <td>0</td>\n",
       "      <td>256</td>\n",
       "      <td>Intel</td>\n",
       "      <td>Others</td>\n",
       "      <td>262.654316</td>\n",
       "      <td>256</td>\n",
       "    </tr>\n",
       "    <tr>\n",
       "      <th>3</th>\n",
       "      <td>Apple</td>\n",
       "      <td>Ultrabook</td>\n",
       "      <td>16</td>\n",
       "      <td>1.83</td>\n",
       "      <td>11.814476</td>\n",
       "      <td>0</td>\n",
       "      <td>1</td>\n",
       "      <td>220.534624</td>\n",
       "      <td>Intel Core i7</td>\n",
       "      <td>0</td>\n",
       "      <td>512</td>\n",
       "      <td>AMD</td>\n",
       "      <td>Mac</td>\n",
       "      <td>403.578362</td>\n",
       "      <td>512</td>\n",
       "    </tr>\n",
       "    <tr>\n",
       "      <th>4</th>\n",
       "      <td>Apple</td>\n",
       "      <td>Ultrabook</td>\n",
       "      <td>8</td>\n",
       "      <td>1.37</td>\n",
       "      <td>11.473101</td>\n",
       "      <td>0</td>\n",
       "      <td>1</td>\n",
       "      <td>226.983005</td>\n",
       "      <td>Intel Core i5</td>\n",
       "      <td>0</td>\n",
       "      <td>256</td>\n",
       "      <td>Intel</td>\n",
       "      <td>Mac</td>\n",
       "      <td>310.966716</td>\n",
       "      <td>256</td>\n",
       "    </tr>\n",
       "    <tr>\n",
       "      <th>...</th>\n",
       "      <td>...</td>\n",
       "      <td>...</td>\n",
       "      <td>...</td>\n",
       "      <td>...</td>\n",
       "      <td>...</td>\n",
       "      <td>...</td>\n",
       "      <td>...</td>\n",
       "      <td>...</td>\n",
       "      <td>...</td>\n",
       "      <td>...</td>\n",
       "      <td>...</td>\n",
       "      <td>...</td>\n",
       "      <td>...</td>\n",
       "      <td>...</td>\n",
       "      <td>...</td>\n",
       "    </tr>\n",
       "    <tr>\n",
       "      <th>1268</th>\n",
       "      <td>Asus</td>\n",
       "      <td>Notebook</td>\n",
       "      <td>4</td>\n",
       "      <td>2.20</td>\n",
       "      <td>10.555257</td>\n",
       "      <td>0</td>\n",
       "      <td>0</td>\n",
       "      <td>100.454670</td>\n",
       "      <td>Intel Core i7</td>\n",
       "      <td>500</td>\n",
       "      <td>0</td>\n",
       "      <td>Nvidia</td>\n",
       "      <td>Windows</td>\n",
       "      <td>221.000274</td>\n",
       "      <td>500</td>\n",
       "    </tr>\n",
       "    <tr>\n",
       "      <th>1269</th>\n",
       "      <td>Lenovo</td>\n",
       "      <td>2 in 1 Convertible</td>\n",
       "      <td>4</td>\n",
       "      <td>1.80</td>\n",
       "      <td>10.433899</td>\n",
       "      <td>1</td>\n",
       "      <td>1</td>\n",
       "      <td>157.350512</td>\n",
       "      <td>Intel Core i7</td>\n",
       "      <td>0</td>\n",
       "      <td>128</td>\n",
       "      <td>Intel</td>\n",
       "      <td>Windows</td>\n",
       "      <td>283.230922</td>\n",
       "      <td>128</td>\n",
       "    </tr>\n",
       "    <tr>\n",
       "      <th>1270</th>\n",
       "      <td>Lenovo</td>\n",
       "      <td>2 in 1 Convertible</td>\n",
       "      <td>16</td>\n",
       "      <td>1.30</td>\n",
       "      <td>11.288115</td>\n",
       "      <td>1</td>\n",
       "      <td>1</td>\n",
       "      <td>276.053530</td>\n",
       "      <td>Intel Core i7</td>\n",
       "      <td>0</td>\n",
       "      <td>512</td>\n",
       "      <td>Intel</td>\n",
       "      <td>Windows</td>\n",
       "      <td>358.869589</td>\n",
       "      <td>512</td>\n",
       "    </tr>\n",
       "    <tr>\n",
       "      <th>1271</th>\n",
       "      <td>Lenovo</td>\n",
       "      <td>Notebook</td>\n",
       "      <td>2</td>\n",
       "      <td>1.50</td>\n",
       "      <td>9.409283</td>\n",
       "      <td>0</td>\n",
       "      <td>0</td>\n",
       "      <td>111.935204</td>\n",
       "      <td>Other Intel Processor</td>\n",
       "      <td>0</td>\n",
       "      <td>0</td>\n",
       "      <td>Intel</td>\n",
       "      <td>Windows</td>\n",
       "      <td>167.902805</td>\n",
       "      <td>0</td>\n",
       "    </tr>\n",
       "    <tr>\n",
       "      <th>1272</th>\n",
       "      <td>HP</td>\n",
       "      <td>Notebook</td>\n",
       "      <td>6</td>\n",
       "      <td>2.19</td>\n",
       "      <td>10.614129</td>\n",
       "      <td>0</td>\n",
       "      <td>0</td>\n",
       "      <td>100.454670</td>\n",
       "      <td>Intel Core i7</td>\n",
       "      <td>1000</td>\n",
       "      <td>0</td>\n",
       "      <td>AMD</td>\n",
       "      <td>Windows</td>\n",
       "      <td>219.995727</td>\n",
       "      <td>1000</td>\n",
       "    </tr>\n",
       "  </tbody>\n",
       "</table>\n",
       "<p>1272 rows × 15 columns</p>\n",
       "</div>"
      ],
      "text/plain": [
       "     Company            TypeName  Ram  Weight      Price  TS  Ips         Ppi  \\\n",
       "0      Apple           Ultrabook    8    1.37  11.175755   0    1  226.983005   \n",
       "1      Apple           Ultrabook    8    1.34  10.776777   0    0  127.677940   \n",
       "2         HP            Notebook    8    1.86  10.329931   0    0  141.211998   \n",
       "3      Apple           Ultrabook   16    1.83  11.814476   0    1  220.534624   \n",
       "4      Apple           Ultrabook    8    1.37  11.473101   0    1  226.983005   \n",
       "...      ...                 ...  ...     ...        ...  ..  ...         ...   \n",
       "1268    Asus            Notebook    4    2.20  10.555257   0    0  100.454670   \n",
       "1269  Lenovo  2 in 1 Convertible    4    1.80  10.433899   1    1  157.350512   \n",
       "1270  Lenovo  2 in 1 Convertible   16    1.30  11.288115   1    1  276.053530   \n",
       "1271  Lenovo            Notebook    2    1.50   9.409283   0    0  111.935204   \n",
       "1272      HP            Notebook    6    2.19  10.614129   0    0  100.454670   \n",
       "\n",
       "                  Cpu_brand   HDD  SSD Gpu_brand       Os    Scrnsize  Strcap  \n",
       "0             Intel Core i5     0  128     Intel      Mac  310.966716     128  \n",
       "1             Intel Core i5     0    0     Intel      Mac  171.088440       0  \n",
       "2             Intel Core i5     0  256     Intel   Others  262.654316     256  \n",
       "3             Intel Core i7     0  512       AMD      Mac  403.578362     512  \n",
       "4             Intel Core i5     0  256     Intel      Mac  310.966716     256  \n",
       "...                     ...   ...  ...       ...      ...         ...     ...  \n",
       "1268          Intel Core i7   500    0    Nvidia  Windows  221.000274     500  \n",
       "1269          Intel Core i7     0  128     Intel  Windows  283.230922     128  \n",
       "1270          Intel Core i7     0  512     Intel  Windows  358.869589     512  \n",
       "1271  Other Intel Processor     0    0     Intel  Windows  167.902805       0  \n",
       "1272          Intel Core i7  1000    0       AMD  Windows  219.995727    1000  \n",
       "\n",
       "[1272 rows x 15 columns]"
      ]
     },
     "execution_count": 40,
     "metadata": {},
     "output_type": "execute_result"
    }
   ],
   "source": [
    "df"
   ]
  },
  {
   "cell_type": "code",
   "execution_count": 41,
   "id": "45e2a20c-5c1c-45e4-9141-32ebea372f1a",
   "metadata": {},
   "outputs": [],
   "source": [
    "df.to_csv('laptop_preprocess.csv')"
   ]
  },
  {
   "cell_type": "code",
   "execution_count": null,
   "id": "80d0186b-71f6-4c9a-a7b2-ae50364761a3",
   "metadata": {},
   "outputs": [],
   "source": []
  },
  {
   "cell_type": "code",
   "execution_count": null,
   "id": "30ff71da-bfe0-48cc-aedc-2e1d1d67eb66",
   "metadata": {},
   "outputs": [],
   "source": []
  },
  {
   "cell_type": "code",
   "execution_count": null,
   "id": "4eb6d4e4-eb38-4206-a788-400d0f541e9b",
   "metadata": {},
   "outputs": [],
   "source": []
  },
  {
   "cell_type": "code",
   "execution_count": null,
   "id": "32871c37-20a1-419a-bdab-02f2733d3aad",
   "metadata": {},
   "outputs": [],
   "source": []
  },
  {
   "cell_type": "code",
   "execution_count": null,
   "id": "151191f8-00bc-4ac5-a780-ae2f74737e52",
   "metadata": {},
   "outputs": [],
   "source": []
  },
  {
   "cell_type": "code",
   "execution_count": null,
   "id": "fb0dee4b-27b4-4f6b-bf28-c9d58c66d008",
   "metadata": {},
   "outputs": [],
   "source": []
  },
  {
   "cell_type": "code",
   "execution_count": null,
   "id": "b2107b6d-0f6b-4584-9435-948e0ecd9a8a",
   "metadata": {},
   "outputs": [],
   "source": []
  },
  {
   "cell_type": "code",
   "execution_count": null,
   "id": "bbc10ef9-e51d-417c-8060-0c765bd31097",
   "metadata": {},
   "outputs": [],
   "source": []
  },
  {
   "cell_type": "code",
   "execution_count": null,
   "id": "4627eba1-557c-4e24-a4de-a23bb84de370",
   "metadata": {},
   "outputs": [],
   "source": []
  },
  {
   "cell_type": "code",
   "execution_count": null,
   "id": "249f8600-d202-43b1-8a13-ab5834fd31e1",
   "metadata": {},
   "outputs": [],
   "source": []
  },
  {
   "cell_type": "code",
   "execution_count": null,
   "id": "e0bbfd8f-ebfb-4413-822f-d3cdb41140eb",
   "metadata": {},
   "outputs": [],
   "source": []
  },
  {
   "cell_type": "code",
   "execution_count": null,
   "id": "99f64e17-591b-46c7-a70a-d384f7f37829",
   "metadata": {},
   "outputs": [],
   "source": []
  },
  {
   "cell_type": "code",
   "execution_count": null,
   "id": "05684e76-0467-4c19-bae1-51f352e3c32a",
   "metadata": {},
   "outputs": [],
   "source": []
  },
  {
   "cell_type": "code",
   "execution_count": 42,
   "id": "3b6179f4-da54-49fb-9d72-5688b65779be",
   "metadata": {},
   "outputs": [],
   "source": [
    "# d = pd.DataFrame(scale_df,columns=['Ram', 'Weight', 'Price', 'TS', 'Ips', 'Ppi','HDD', 'SSD','Scrnsize',\n",
    "#        'Strcap'])\n",
    "# d"
   ]
  },
  {
   "cell_type": "code",
   "execution_count": 43,
   "id": "135fcbe4-adc2-4343-8675-80f4b6e1d57e",
   "metadata": {},
   "outputs": [],
   "source": [
    "# d.shape[1]\n",
    "# fig, ax = plt.subplots(nrows=d.shape[1], figsize=(10,50))\n",
    "# for i, col in enumerate(d.columns):\n",
    "#     ax[i].boxplot(d[col])\n",
    "#     ax[i].set_title(col)"
   ]
  },
  {
   "cell_type": "code",
   "execution_count": 44,
   "id": "b4977a90-9238-493e-9b25-94b528c928a9",
   "metadata": {},
   "outputs": [],
   "source": [
    "# df1"
   ]
  },
  {
   "cell_type": "code",
   "execution_count": 45,
   "id": "38662d3a-f540-4783-af3e-5981d1a36f22",
   "metadata": {},
   "outputs": [],
   "source": [
    "# ms_scale_df.max()"
   ]
  },
  {
   "cell_type": "code",
   "execution_count": 46,
   "id": "44a07239-e344-433a-a33b-3b138a1fd1f0",
   "metadata": {},
   "outputs": [],
   "source": [
    "# ms_scale_df.min()"
   ]
  },
  {
   "cell_type": "code",
   "execution_count": 47,
   "id": "50c10975-8d0c-470e-852c-b3b87ec3ab27",
   "metadata": {},
   "outputs": [],
   "source": [
    "# Sc.fit_transform(df1[['Scrnsize']])"
   ]
  },
  {
   "cell_type": "code",
   "execution_count": 48,
   "id": "4ad4e90d-af15-4757-857a-9f17617ce6b1",
   "metadata": {},
   "outputs": [],
   "source": [
    "# df_Ss=df_num[\"Scrnsize\"]\n",
    "# df_Ss"
   ]
  },
  {
   "cell_type": "code",
   "execution_count": 49,
   "id": "3af03c9f-f16a-42ef-b5e3-81e0f42d152a",
   "metadata": {},
   "outputs": [],
   "source": [
    "# outliers=[]\n",
    "# def detect_outliers(data):\n",
    "#     threshold=3\n",
    "#     mean=np.mean(data)\n",
    "#     std=np.std(data)\n",
    "#     for i in data:\n",
    "#         zscore=i-mean/std\n",
    "#         if np.abs(zscore)>threshold:\n",
    "#             outliers.append(i)\n",
    "#         return outliers\n",
    "# detect_outliers(df_Ss)"
   ]
  },
  {
   "cell_type": "code",
   "execution_count": 50,
   "id": "1b8ec3d9-3033-4bf2-bdc4-0d6222ed3e63",
   "metadata": {},
   "outputs": [],
   "source": [
    "# sorted(df_Ss)\n",
    "# quantile1,quantile3=np.percentile(df_Ss,[25,75])\n",
    "# print(quantile1,quantile3)"
   ]
  },
  {
   "cell_type": "code",
   "execution_count": 51,
   "id": "4bfeca2e-0d37-4046-a5bf-7fc88b18661f",
   "metadata": {},
   "outputs": [],
   "source": [
    "# iqr_value=quantile3-quantile1\n",
    "# print(iqr_value)"
   ]
  },
  {
   "cell_type": "code",
   "execution_count": 52,
   "id": "ee4d53b6-308b-4862-83ff-2393020c9011",
   "metadata": {},
   "outputs": [],
   "source": [
    "# lower_bound=quantile1-(1.5*iqr_value)\n",
    "# upper_bound=quantile3+(1.5*iqr_value)\n",
    "# print(lower_bound,upper_bound)"
   ]
  },
  {
   "cell_type": "code",
   "execution_count": 53,
   "id": "5c6dcb0b-68c6-443a-a9b7-158bde9dd88f",
   "metadata": {},
   "outputs": [],
   "source": [
    "# df_cr=df1.corr(numeric_only=True)\n",
    "# df_cr"
   ]
  },
  {
   "cell_type": "code",
   "execution_count": 54,
   "id": "aa757104-74f3-42cb-9f00-f2353034d2a1",
   "metadata": {},
   "outputs": [],
   "source": [
    "# df1.corr(numeric_only=True)[\"Price\"]"
   ]
  },
  {
   "cell_type": "code",
   "execution_count": 55,
   "id": "b18ea2eb-dce1-4710-9c71-4fea549cf6b6",
   "metadata": {},
   "outputs": [],
   "source": [
    "# sns.heatmap(df_cr,annot=True)"
   ]
  },
  {
   "cell_type": "code",
   "execution_count": 56,
   "id": "bb6dbce5-5676-44f1-a482-cf415dfa0999",
   "metadata": {},
   "outputs": [],
   "source": [
    "# df1.columns"
   ]
  },
  {
   "cell_type": "code",
   "execution_count": 57,
   "id": "3d932545-c122-46a2-976c-142a70ecd8d1",
   "metadata": {},
   "outputs": [],
   "source": [
    "# feature=['Company', 'TypeName','Cpu_brand','Gpu_brand', 'Os']"
   ]
  },
  {
   "cell_type": "code",
   "execution_count": 58,
   "id": "f1639d8c-063f-4641-b5ca-69fcd1251dc4",
   "metadata": {},
   "outputs": [],
   "source": [
    "# df2=df1.copy()"
   ]
  },
  {
   "cell_type": "code",
   "execution_count": 59,
   "id": "ccefe72a-d8ed-4450-abfb-256ec8a1b5ed",
   "metadata": {},
   "outputs": [],
   "source": [
    "# from sklearn.preprocessing import LabelEncoder\n",
    "# le = LabelEncoder()"
   ]
  },
  {
   "cell_type": "code",
   "execution_count": 60,
   "id": "1bedae50-8a94-448c-998e-11e8b9af08b8",
   "metadata": {},
   "outputs": [],
   "source": [
    "# for col in feature:\n",
    "    # le = LabelEncoder()\n",
    "    # df2[col] = le.fit_transform(df2[col])\n",
    "# df2"
   ]
  },
  {
   "cell_type": "code",
   "execution_count": 61,
   "id": "503174ae-fda5-4c9d-8ee7-9b4ca886c7f3",
   "metadata": {},
   "outputs": [],
   "source": [
    "# #Format the plot background and scatter plots for all the variables\n",
    "# sns.set_style(style='darkgrid')\n",
    "# sns.pairplot(df2)"
   ]
  },
  {
   "cell_type": "code",
   "execution_count": 62,
   "id": "8e977b05-61a8-41d6-bc6a-d8b9b3a234f9",
   "metadata": {},
   "outputs": [],
   "source": [
    "# df2_cr=df2.corr(numeric_only=True)\n",
    "# df2_cr"
   ]
  },
  {
   "cell_type": "code",
   "execution_count": 63,
   "id": "851be068-1a3b-4ad4-ac85-3dd130960a93",
   "metadata": {},
   "outputs": [],
   "source": [
    "# plt.figure(figsize=(12, 9))\n",
    "# sns.heatmap(df2_cr,annot=True)"
   ]
  },
  {
   "cell_type": "code",
   "execution_count": 64,
   "id": "18e8c2bf-4abd-4664-9e64-95acc9f44f1d",
   "metadata": {},
   "outputs": [],
   "source": [
    "# df2.columns"
   ]
  },
  {
   "cell_type": "code",
   "execution_count": 65,
   "id": "5849648e-fb5e-4e1d-b2c8-77f9ed8da6d5",
   "metadata": {},
   "outputs": [],
   "source": [
    "# scale_df1 = Sc.fit_transform(df2)\n",
    "# scale_df1"
   ]
  },
  {
   "cell_type": "code",
   "execution_count": 66,
   "id": "eca1b352-9c56-4c7d-8786-51b3af8a1d04",
   "metadata": {},
   "outputs": [
    {
     "ename": "IndentationError",
     "evalue": "unexpected indent (1334980246.py, line 2)",
     "output_type": "error",
     "traceback": [
      "\u001b[1;36m  Cell \u001b[1;32mIn[66], line 2\u001b[1;36m\u001b[0m\n\u001b[1;33m    'Cpu_brand','HDD', 'SSD', 'Gpu_brand', 'Os', 'Scrnsize', 'Strcap'])\u001b[0m\n\u001b[1;37m    ^\u001b[0m\n\u001b[1;31mIndentationError\u001b[0m\u001b[1;31m:\u001b[0m unexpected indent\n"
     ]
    }
   ],
   "source": [
    "# d1 = pd.DataFrame(scale_df1,columns=['Company', 'TypeName', 'Ram', 'Weight', 'Price', 'TS', 'Ips', 'Ppi',\n",
    "       'Cpu_brand','HDD', 'SSD', 'Gpu_brand', 'Os', 'Scrnsize', 'Strcap'])\n",
    "# d1"
   ]
  },
  {
   "cell_type": "code",
   "execution_count": null,
   "id": "55ab1ec1-5d29-4b64-a5ca-b8899fe7ce3f",
   "metadata": {},
   "outputs": [],
   "source": [
    "# d1.shape[1]\n",
    "# fig, ax = plt.subplots(nrows=d1.shape[1], figsize=(10,50))\n",
    "# for i, col in enumerate(d1.columns):\n",
    "    # ax[i].boxplot(d1[col])\n",
    "    # ax[i].set_title(col)"
   ]
  },
  {
   "cell_type": "code",
   "execution_count": null,
   "id": "b581849c-1cff-4ce9-8358-f4aced1abca1",
   "metadata": {},
   "outputs": [],
   "source": [
    "# out = []\n",
    "# for var in d1:\n",
    "    # for i in d1[var]:\n",
    "        # if i>3 or i<-3:\n",
    "            # out.append(i)\n",
    "            # print(i)"
   ]
  },
  {
   "cell_type": "code",
   "execution_count": null,
   "id": "39c2d34a-beb2-4dfa-8543-54263ffb9c56",
   "metadata": {},
   "outputs": [],
   "source": [
    "# out"
   ]
  },
  {
   "cell_type": "code",
   "execution_count": null,
   "id": "5d29a712-840b-45dc-b1a0-15924fe54c4f",
   "metadata": {},
   "outputs": [],
   "source": [
    "# from sklearn.preprocessing import MinMaxScaler,StandardScaler\n",
    "# ms = MinMaxScaler()\n",
    "# ms_scale_df = ms.fit_transform(df2)"
   ]
  },
  {
   "cell_type": "code",
   "execution_count": null,
   "id": "31a129d9-8856-4dc9-b2cd-f57acfb588c8",
   "metadata": {},
   "outputs": [],
   "source": [
    "# ms_scale_df"
   ]
  },
  {
   "cell_type": "code",
   "execution_count": null,
   "id": "a9c21fa6-4a1f-42f1-aa21-2133d490443f",
   "metadata": {},
   "outputs": [],
   "source": [
    "#Build model\n",
    "# import statsmodels.formula.api as smf \n",
    "# model = smf.ols('Price~Ram+Weight+TS+Ips+Ppi+Scrnsize+Strcap',data=d1).fit()\n",
    "# model"
   ]
  },
  {
   "cell_type": "code",
   "execution_count": null,
   "id": "40fec53e-9adf-464e-95e0-03f9ac01ea38",
   "metadata": {},
   "outputs": [],
   "source": [
    "# model.params"
   ]
  },
  {
   "cell_type": "code",
   "execution_count": null,
   "id": "4786d595-6e6c-4d42-84ca-e0b47c6c41fc",
   "metadata": {},
   "outputs": [],
   "source": [
    "# print(model.tvalues, '\\n\\n', model.pvalues)"
   ]
  },
  {
   "cell_type": "code",
   "execution_count": null,
   "id": "4cf3d5aa-cab4-4b51-a6b7-3c5b908ca800",
   "metadata": {},
   "outputs": [],
   "source": [
    "# (model.rsquared,model.rsquared_adj)"
   ]
  },
  {
   "cell_type": "code",
   "execution_count": null,
   "id": "092ead7e-2b07-4be0-aac9-e31a2ed4735c",
   "metadata": {},
   "outputs": [],
   "source": [
    "# df1.to_csv('Preprocess.csv')"
   ]
  },
  {
   "cell_type": "code",
   "execution_count": null,
   "id": "b5c3594b-a782-4e3f-9e9e-a9828bb9594b",
   "metadata": {},
   "outputs": [],
   "source": []
  },
  {
   "cell_type": "code",
   "execution_count": null,
   "id": "b7c3a9e6-19e7-4442-a27c-b4252e37ff64",
   "metadata": {},
   "outputs": [],
   "source": []
  },
  {
   "cell_type": "code",
   "execution_count": null,
   "id": "486f8fdf-65de-426f-b719-8cb8edea0f11",
   "metadata": {},
   "outputs": [],
   "source": []
  },
  {
   "cell_type": "code",
   "execution_count": null,
   "id": "feefb028-8396-452f-885c-a414f6cf0545",
   "metadata": {},
   "outputs": [],
   "source": []
  },
  {
   "cell_type": "code",
   "execution_count": null,
   "id": "bb5d69ba-0af5-4ed8-b1d6-07d3807db607",
   "metadata": {},
   "outputs": [],
   "source": []
  },
  {
   "cell_type": "code",
   "execution_count": null,
   "id": "3638a77b-fd46-4a5a-bd6a-91e81bb981ac",
   "metadata": {},
   "outputs": [],
   "source": []
  }
 ],
 "metadata": {
  "kernelspec": {
   "display_name": "Python 3 (ipykernel)",
   "language": "python",
   "name": "python3"
  },
  "language_info": {
   "codemirror_mode": {
    "name": "ipython",
    "version": 3
   },
   "file_extension": ".py",
   "mimetype": "text/x-python",
   "name": "python",
   "nbconvert_exporter": "python",
   "pygments_lexer": "ipython3",
   "version": "3.11.4"
  }
 },
 "nbformat": 4,
 "nbformat_minor": 5
}
